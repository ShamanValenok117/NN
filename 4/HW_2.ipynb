{
 "cells": [
  {
   "cell_type": "markdown",
   "metadata": {
    "collapsed": true,
    "id": "l4VAzKlG8aHj"
   },
   "source": [
    "## Neural Part Of Speech Tagging\n",
    "\n",
    "We're now going to solve the same problem of POS tagging with neural networks.\n",
    "<img src=https://i.stack.imgur.com/6pdIT.png width=320>\n",
    "\n",
    "From deep learning perspective, this is a task of predicting a sequence of outputs aligned to a sequence of inputs. There are several problems that match this formulation:\n",
    "* Part Of Speech Tagging -  an auxuliary task for many NLP problems\n",
    "* Named Entity Recognition - for chat bots and web crawlers\n",
    "* Protein structure prediction - for bioinformatics"
   ]
  },
  {
   "cell_type": "code",
   "execution_count": 1,
   "metadata": {
    "ExecuteTime": {
     "end_time": "2021-10-22T11:50:46.949333Z",
     "start_time": "2021-10-22T11:50:36.013291Z"
    },
    "id": "yxFUBtb88aHq"
   },
   "outputs": [],
   "source": [
    "import nltk\n",
    "import sys\n",
    "import numpy as np\n",
    "import pandas as pd\n",
    "import matplotlib.pyplot as plt\n",
    "\n",
    "import tensorflow as tf\n",
    "import tensorflow_addons as tfa"
   ]
  },
  {
   "cell_type": "code",
   "execution_count": 258,
   "metadata": {
    "ExecuteTime": {
     "end_time": "2021-10-25T09:53:34.592966Z",
     "start_time": "2021-10-25T09:53:34.562965Z"
    }
   },
   "outputs": [],
   "source": [
    "# сохраним полезную функцию отрисовки графиков в самом начале, чтобы не искать в блокноте\n",
    "def make_plots(model, name='Test', save=False):\n",
    "    fig = plt.figure(figsize=(15,5))\n",
    "    fig.suptitle(name, fontsize=20)\n",
    "\n",
    "    fig.add_subplot(121)\n",
    "    plt.plot(model.history.history['loss'],'b--',label='train')\n",
    "    plt.plot(model.history.history['val_loss'],'g-',label='validation')\n",
    "    plt.legend(loc='best')\n",
    "    plt.ylabel('loss')\n",
    "    x_right_limit = len(model.history.history['loss'])\n",
    "    tick = int((x_right_limit+1)/10)\n",
    "    if tick<1: tick=1\n",
    "    plt.xticks(range(0,x_right_limit+1,tick))\n",
    "    plt.grid()\n",
    "    plt.xlabel('epochs')\n",
    "    plt.title('Loss_vs_epoch');\n",
    "\n",
    "    fig.add_subplot(122)\n",
    "    plt.plot(model.history.history['categorical_accuracy'],'b--',label='train')\n",
    "    plt.plot(model.history.history['val_categorical_accuracy'],'g-',label='validation')\n",
    "    plt.legend(loc='best')\n",
    "    plt.ylabel('accuracy')\n",
    "    plt.xticks(range(0,x_right_limit+1,tick))\n",
    "    plt.grid()\n",
    "    plt.xlabel('epochs')\n",
    "    plt.title('Accuracy_vs_epoch');\n",
    "    \n",
    "    if save: fig.savefig(name)"
   ]
  },
  {
   "cell_type": "code",
   "execution_count": 3,
   "metadata": {
    "ExecuteTime": {
     "end_time": "2021-10-22T11:50:58.943369Z",
     "start_time": "2021-10-22T11:50:50.130338Z"
    },
    "id": "yxFUBtb88aHq",
    "scrolled": true
   },
   "outputs": [
    {
     "name": "stderr",
     "output_type": "stream",
     "text": [
      "[nltk_data] Downloading package brown to\n",
      "[nltk_data]     C:\\Users\\Sony\\AppData\\Roaming\\nltk_data...\n",
      "[nltk_data]   Package brown is already up-to-date!\n",
      "[nltk_data] Downloading package universal_tagset to\n",
      "[nltk_data]     C:\\Users\\Sony\\AppData\\Roaming\\nltk_data...\n",
      "[nltk_data]   Package universal_tagset is already up-to-date!\n",
      "C:\\Users\\Sony\\AppData\\Local\\Temp/ipykernel_7372/3592620917.py:6: VisibleDeprecationWarning: Creating an ndarray from ragged nested sequences (which is a list-or-tuple of lists-or-tuples-or ndarrays with different lengths or shapes) is deprecated. If you meant to do this, you must specify 'dtype=object' when creating the ndarray\n",
      "  data = np.array([ [(word.lower(),tag) if tag in all_tags else empty.append(tag) for word,tag in sentence] for sentence in data ])\n"
     ]
    }
   ],
   "source": [
    "nltk.download('brown')\n",
    "nltk.download('universal_tagset')\n",
    "data = nltk.corpus.brown.tagged_sents(tagset='universal')\n",
    "all_tags = ['#EOS#','#UNK#','ADV', 'NOUN', 'ADP', 'PRON', 'DET', '.', 'PRT', 'VERB', 'X', 'NUM', 'CONJ', 'ADJ']\n",
    "empty = []\n",
    "data = np.array([ [(word.lower(),tag) if tag in all_tags else empty.append(tag) for word,tag in sentence] for sentence in data ])"
   ]
  },
  {
   "cell_type": "code",
   "execution_count": 4,
   "metadata": {
    "ExecuteTime": {
     "end_time": "2021-10-22T11:50:58.963369Z",
     "start_time": "2021-10-22T11:50:58.943369Z"
    },
    "id": "Bq_OXuD38aHs"
   },
   "outputs": [],
   "source": [
    "from sklearn.model_selection import train_test_split\n",
    "train_data, test_data = train_test_split(data,test_size=0.25,random_state=42)"
   ]
  },
  {
   "cell_type": "code",
   "execution_count": 5,
   "metadata": {
    "ExecuteTime": {
     "end_time": "2021-10-22T11:51:00.633371Z",
     "start_time": "2021-10-22T11:51:00.623371Z"
    }
   },
   "outputs": [],
   "source": [
    "from IPython.display import HTML,display"
   ]
  },
  {
   "cell_type": "code",
   "execution_count": 6,
   "metadata": {
    "ExecuteTime": {
     "end_time": "2021-10-22T11:51:02.313374Z",
     "start_time": "2021-10-22T11:51:02.293374Z"
    },
    "id": "sAlXrDmU8aHs"
   },
   "outputs": [
    {
     "data": {
      "text/html": [
       "<table><tr><td>NOUN</td><td>ADP</td><td>NOUN</td><td>NOUN</td><td>NOUN</td><td>NOUN</td><td>VERB</td><td>ADV</td><td>VERB</td><td>ADP</td><td>DET</td><td>ADJ</td><td>NOUN</td><td>.</td></tr><td>implementation</td><td>of</td><td>georgia's</td><td>automobile</td><td>title</td><td>law</td><td>was</td><td>also</td><td>recommended</td><td>by</td><td>the</td><td>outgoing</td><td>jury</td><td>.</td><tr></table>"
      ],
      "text/plain": [
       "<IPython.core.display.HTML object>"
      ]
     },
     "metadata": {},
     "output_type": "display_data"
    },
    {
     "data": {
      "text/html": [
       "<table><tr><td>PRON</td><td>VERB</td><td>ADP</td><td>DET</td><td>NOUN</td><td>.</td><td>VERB</td><td>NOUN</td><td>PRT</td><td>VERB</td><td>.</td><td>DET</td><td>NOUN</td><td>.</td></tr><td>it</td><td>urged</td><td>that</td><td>the</td><td>city</td><td>``</td><td>take</td><td>steps</td><td>to</td><td>remedy</td><td>''</td><td>this</td><td>problem</td><td>.</td><tr></table>"
      ],
      "text/plain": [
       "<IPython.core.display.HTML object>"
      ]
     },
     "metadata": {},
     "output_type": "display_data"
    },
    {
     "data": {
      "text/html": [
       "<table><tr><td>NOUN</td><td>VERB</td></tr><td>merger</td><td>proposed</td><tr></table>"
      ],
      "text/plain": [
       "<IPython.core.display.HTML object>"
      ]
     },
     "metadata": {},
     "output_type": "display_data"
    }
   ],
   "source": [
    "from IPython.display import HTML, display\n",
    "def draw(sentence):\n",
    "    words,tags = zip(*sentence)\n",
    "    display(HTML('<table><tr>{tags}</tr>{words}<tr></table>'.format(\n",
    "                words = '<td>{}</td>'.format('</td><td>'.join(words)),\n",
    "                tags = '<td>{}</td>'.format('</td><td>'.join(tags)))))\n",
    "    \n",
    "    \n",
    "draw(data[11])\n",
    "draw(data[10])\n",
    "draw(data[7])"
   ]
  },
  {
   "cell_type": "code",
   "execution_count": 7,
   "metadata": {
    "ExecuteTime": {
     "end_time": "2021-10-22T09:42:11.038751Z",
     "start_time": "2021-10-22T09:42:11.028751Z"
    }
   },
   "outputs": [
    {
     "data": {
      "text/html": [
       "<table><tr><td>DET</td><td>NOUN</td><td>ADV</td><td>VERB</td><td>ADP</td><td>NOUN</td><td>NOUN</td><td>ADP</td><td>DET</td><td>NOUN</td><td>ADJ</td><td>NOUN</td><td>.</td><td>DET</td><td>VERB</td><td>ADJ</td><td>NOUN</td><td>ADP</td><td>DET</td><td>NOUN</td><td>.</td><td>.</td><td>VERB</td><td>DET</td><td>NOUN</td><td>CONJ</td><td>NOUN</td><td>ADP</td><td>DET</td><td>NOUN</td><td>ADP</td><td>NOUN</td><td>.</td><td>ADP</td><td>DET</td><td>NOUN</td><td>ADP</td><td>DET</td><td>DET</td><td>NOUN</td><td>VERB</td><td>VERB</td><td>.</td></tr><td>the</td><td>jury</td><td>further</td><td>said</td><td>in</td><td>term-end</td><td>presentments</td><td>that</td><td>the</td><td>city</td><td>executive</td><td>committee</td><td>,</td><td>which</td><td>had</td><td>over-all</td><td>charge</td><td>of</td><td>the</td><td>election</td><td>,</td><td>``</td><td>deserves</td><td>the</td><td>praise</td><td>and</td><td>thanks</td><td>of</td><td>the</td><td>city</td><td>of</td><td>atlanta</td><td>''</td><td>for</td><td>the</td><td>manner</td><td>in</td><td>which</td><td>the</td><td>election</td><td>was</td><td>conducted</td><td>.</td><tr></table>"
      ],
      "text/plain": [
       "<IPython.core.display.HTML object>"
      ]
     },
     "metadata": {},
     "output_type": "display_data"
    }
   ],
   "source": [
    "draw(data[1])"
   ]
  },
  {
   "cell_type": "markdown",
   "metadata": {},
   "source": [
    "Сделаем лучше представление:"
   ]
  },
  {
   "cell_type": "code",
   "execution_count": 7,
   "metadata": {
    "ExecuteTime": {
     "end_time": "2021-10-22T11:51:07.694381Z",
     "start_time": "2021-10-22T11:51:07.674381Z"
    }
   },
   "outputs": [],
   "source": [
    "def draw_better(sentence,fill='NaN'):\n",
    "    a={}\n",
    "    for i,j in sentence:\n",
    "        if j in all_tags:\n",
    "            if j not in a.keys():\n",
    "                a[j]=[]\n",
    "\n",
    "            a[j].append(i)\n",
    "    return pd.DataFrame.from_dict(a,orient='index').T.fillna(fill)\n",
    "    "
   ]
  },
  {
   "cell_type": "code",
   "execution_count": 8,
   "metadata": {
    "ExecuteTime": {
     "end_time": "2021-10-22T11:51:08.815383Z",
     "start_time": "2021-10-22T11:51:08.755383Z"
    }
   },
   "outputs": [
    {
     "data": {
      "text/html": [
       "<div>\n",
       "<style scoped>\n",
       "    .dataframe tbody tr th:only-of-type {\n",
       "        vertical-align: middle;\n",
       "    }\n",
       "\n",
       "    .dataframe tbody tr th {\n",
       "        vertical-align: top;\n",
       "    }\n",
       "\n",
       "    .dataframe thead th {\n",
       "        text-align: right;\n",
       "    }\n",
       "</style>\n",
       "<table border=\"1\" class=\"dataframe\">\n",
       "  <thead>\n",
       "    <tr style=\"text-align: right;\">\n",
       "      <th></th>\n",
       "      <th>DET</th>\n",
       "      <th>NOUN</th>\n",
       "      <th>ADV</th>\n",
       "      <th>VERB</th>\n",
       "      <th>ADP</th>\n",
       "      <th>ADJ</th>\n",
       "      <th>.</th>\n",
       "      <th>CONJ</th>\n",
       "    </tr>\n",
       "  </thead>\n",
       "  <tbody>\n",
       "    <tr>\n",
       "      <th>0</th>\n",
       "      <td>the</td>\n",
       "      <td>jury</td>\n",
       "      <td>further</td>\n",
       "      <td>said</td>\n",
       "      <td>in</td>\n",
       "      <td>executive</td>\n",
       "      <td>,</td>\n",
       "      <td>and</td>\n",
       "    </tr>\n",
       "    <tr>\n",
       "      <th>1</th>\n",
       "      <td>the</td>\n",
       "      <td>term-end</td>\n",
       "      <td>-</td>\n",
       "      <td>had</td>\n",
       "      <td>that</td>\n",
       "      <td>over-all</td>\n",
       "      <td>,</td>\n",
       "      <td>-</td>\n",
       "    </tr>\n",
       "    <tr>\n",
       "      <th>2</th>\n",
       "      <td>which</td>\n",
       "      <td>presentments</td>\n",
       "      <td>-</td>\n",
       "      <td>deserves</td>\n",
       "      <td>of</td>\n",
       "      <td>-</td>\n",
       "      <td>``</td>\n",
       "      <td>-</td>\n",
       "    </tr>\n",
       "    <tr>\n",
       "      <th>3</th>\n",
       "      <td>the</td>\n",
       "      <td>city</td>\n",
       "      <td>-</td>\n",
       "      <td>was</td>\n",
       "      <td>of</td>\n",
       "      <td>-</td>\n",
       "      <td>''</td>\n",
       "      <td>-</td>\n",
       "    </tr>\n",
       "    <tr>\n",
       "      <th>4</th>\n",
       "      <td>the</td>\n",
       "      <td>committee</td>\n",
       "      <td>-</td>\n",
       "      <td>conducted</td>\n",
       "      <td>of</td>\n",
       "      <td>-</td>\n",
       "      <td>.</td>\n",
       "      <td>-</td>\n",
       "    </tr>\n",
       "    <tr>\n",
       "      <th>5</th>\n",
       "      <td>the</td>\n",
       "      <td>charge</td>\n",
       "      <td>-</td>\n",
       "      <td>-</td>\n",
       "      <td>for</td>\n",
       "      <td>-</td>\n",
       "      <td>-</td>\n",
       "      <td>-</td>\n",
       "    </tr>\n",
       "    <tr>\n",
       "      <th>6</th>\n",
       "      <td>the</td>\n",
       "      <td>election</td>\n",
       "      <td>-</td>\n",
       "      <td>-</td>\n",
       "      <td>in</td>\n",
       "      <td>-</td>\n",
       "      <td>-</td>\n",
       "      <td>-</td>\n",
       "    </tr>\n",
       "    <tr>\n",
       "      <th>7</th>\n",
       "      <td>which</td>\n",
       "      <td>praise</td>\n",
       "      <td>-</td>\n",
       "      <td>-</td>\n",
       "      <td>-</td>\n",
       "      <td>-</td>\n",
       "      <td>-</td>\n",
       "      <td>-</td>\n",
       "    </tr>\n",
       "    <tr>\n",
       "      <th>8</th>\n",
       "      <td>the</td>\n",
       "      <td>thanks</td>\n",
       "      <td>-</td>\n",
       "      <td>-</td>\n",
       "      <td>-</td>\n",
       "      <td>-</td>\n",
       "      <td>-</td>\n",
       "      <td>-</td>\n",
       "    </tr>\n",
       "    <tr>\n",
       "      <th>9</th>\n",
       "      <td>-</td>\n",
       "      <td>city</td>\n",
       "      <td>-</td>\n",
       "      <td>-</td>\n",
       "      <td>-</td>\n",
       "      <td>-</td>\n",
       "      <td>-</td>\n",
       "      <td>-</td>\n",
       "    </tr>\n",
       "    <tr>\n",
       "      <th>10</th>\n",
       "      <td>-</td>\n",
       "      <td>atlanta</td>\n",
       "      <td>-</td>\n",
       "      <td>-</td>\n",
       "      <td>-</td>\n",
       "      <td>-</td>\n",
       "      <td>-</td>\n",
       "      <td>-</td>\n",
       "    </tr>\n",
       "    <tr>\n",
       "      <th>11</th>\n",
       "      <td>-</td>\n",
       "      <td>manner</td>\n",
       "      <td>-</td>\n",
       "      <td>-</td>\n",
       "      <td>-</td>\n",
       "      <td>-</td>\n",
       "      <td>-</td>\n",
       "      <td>-</td>\n",
       "    </tr>\n",
       "    <tr>\n",
       "      <th>12</th>\n",
       "      <td>-</td>\n",
       "      <td>election</td>\n",
       "      <td>-</td>\n",
       "      <td>-</td>\n",
       "      <td>-</td>\n",
       "      <td>-</td>\n",
       "      <td>-</td>\n",
       "      <td>-</td>\n",
       "    </tr>\n",
       "  </tbody>\n",
       "</table>\n",
       "</div>"
      ],
      "text/plain": [
       "      DET          NOUN      ADV       VERB   ADP        ADJ   . CONJ\n",
       "0     the          jury  further       said    in  executive   ,  and\n",
       "1     the      term-end        -        had  that   over-all   ,    -\n",
       "2   which  presentments        -   deserves    of          -  ``    -\n",
       "3     the          city        -        was    of          -  ''    -\n",
       "4     the     committee        -  conducted    of          -   .    -\n",
       "5     the        charge        -          -   for          -   -    -\n",
       "6     the      election        -          -    in          -   -    -\n",
       "7   which        praise        -          -     -          -   -    -\n",
       "8     the        thanks        -          -     -          -   -    -\n",
       "9       -          city        -          -     -          -   -    -\n",
       "10      -       atlanta        -          -     -          -   -    -\n",
       "11      -        manner        -          -     -          -   -    -\n",
       "12      -      election        -          -     -          -   -    -"
      ]
     },
     "execution_count": 8,
     "metadata": {},
     "output_type": "execute_result"
    }
   ],
   "source": [
    "draw_better(data[1],'-')"
   ]
  },
  {
   "cell_type": "markdown",
   "metadata": {
    "id": "LAViiL2C8aHt"
   },
   "source": [
    "### Building vocabularies\n",
    "\n",
    "Just like before, we have to build a mapping from tokens to integer ids. This time around, our model operates on a word level, processing one word per RNN step. This means we'll have to deal with far larger vocabulary.\n",
    "\n",
    "Luckily for us, we only receive those words as input i.e. we don't have to predict them. This means we can have a large vocabulary for free by using word embeddings."
   ]
  },
  {
   "cell_type": "markdown",
   "metadata": {
    "ExecuteTime": {
     "end_time": "2021-10-18T08:22:02.147749Z",
     "start_time": "2021-10-18T08:22:02.127749Z"
    }
   },
   "source": [
    "Make our counter"
   ]
  },
  {
   "cell_type": "code",
   "execution_count": 9,
   "metadata": {
    "ExecuteTime": {
     "end_time": "2021-10-22T11:51:10.736386Z",
     "start_time": "2021-10-22T11:51:10.726386Z"
    }
   },
   "outputs": [],
   "source": [
    "#make counter\n",
    "def make_tokens_dictionary(word, tokens_dictionary ={}):\n",
    "    if word not in tokens_dictionary.keys():\n",
    "        tokens_dictionary[word] = 1\n",
    "    else:\n",
    "        tokens_dictionary[word] +=1\n",
    "\n",
    "    return tokens_dictionary"
   ]
  },
  {
   "cell_type": "code",
   "execution_count": 10,
   "metadata": {
    "ExecuteTime": {
     "end_time": "2021-10-22T11:51:12.616388Z",
     "start_time": "2021-10-22T11:51:11.526387Z"
    }
   },
   "outputs": [
    {
     "name": "stdout",
     "output_type": "stream",
     "text": [
      "Done!\n"
     ]
    }
   ],
   "source": [
    "#count\n",
    "tokens_dictionary={}\n",
    "\n",
    "for sent in data:\n",
    "    word,tag = zip(*sent)\n",
    "    for i in word:\n",
    "        make_tokens_dictionary(word=i, tokens_dictionary=tokens_dictionary)\n",
    "\n",
    "assert len(tokens_dictionary) > 40000\n",
    "print('Done!')"
   ]
  },
  {
   "cell_type": "code",
   "execution_count": 11,
   "metadata": {
    "ExecuteTime": {
     "end_time": "2021-10-22T11:51:13.156389Z",
     "start_time": "2021-10-22T11:51:13.096389Z"
    }
   },
   "outputs": [
    {
     "name": "stdout",
     "output_type": "stream",
     "text": [
      "Done!\n"
     ]
    }
   ],
   "source": [
    "#sort\n",
    "tokens_dictionary = dict(sorted(tokens_dictionary.items(), key = lambda x: x[1],reverse=True))\n",
    "\n",
    "assert next(iter(tokens_dictionary.items()) )[1] > 60000\n",
    "print('Done!')"
   ]
  },
  {
   "cell_type": "markdown",
   "metadata": {},
   "source": [
    "Print top5 and tail5 words"
   ]
  },
  {
   "cell_type": "code",
   "execution_count": 12,
   "metadata": {
    "ExecuteTime": {
     "end_time": "2021-10-22T11:51:15.196392Z",
     "start_time": "2021-10-22T11:51:15.156392Z"
    }
   },
   "outputs": [
    {
     "name": "stdout",
     "output_type": "stream",
     "text": [
      "('the', 69971)\n",
      "(',', 58334)\n",
      "('.', 49346)\n",
      "('of', 36412)\n",
      "('and', 28853)\n",
      "('aviary', 1)\n",
      "('olive-flushed', 1)\n",
      "('coral-colored', 1)\n",
      "('boucle', 1)\n",
      "('stupefying', 1)\n"
     ]
    }
   ],
   "source": [
    "print('\\n'.join ( map(str,list(tokens_dictionary.items())[:5] ) ))\n",
    "print('\\n'.join ( map(str,list(tokens_dictionary.items())[-5:] ) ))"
   ]
  },
  {
   "cell_type": "code",
   "execution_count": 13,
   "metadata": {
    "ExecuteTime": {
     "end_time": "2021-10-22T11:51:15.916393Z",
     "start_time": "2021-10-22T11:51:15.896393Z"
    }
   },
   "outputs": [],
   "source": [
    "all_words = ['#EOS#','#UNK#'] + list(tokens_dictionary.keys())[:10000]"
   ]
  },
  {
   "cell_type": "code",
   "execution_count": 14,
   "metadata": {
    "ExecuteTime": {
     "end_time": "2021-10-22T11:51:16.386394Z",
     "start_time": "2021-10-22T11:51:16.376394Z"
    }
   },
   "outputs": [
    {
     "name": "stdout",
     "output_type": "stream",
     "text": [
      "Coverage = 0.92876\n"
     ]
    }
   ],
   "source": [
    "a = sum(list(tokens_dictionary.values())[:10000])*1./sum(tokens_dictionary.values())\n",
    "print(\"Coverage = %.5f\"%a)"
   ]
  },
  {
   "cell_type": "code",
   "execution_count": 15,
   "metadata": {
    "ExecuteTime": {
     "end_time": "2021-10-22T11:51:17.596395Z",
     "start_time": "2021-10-22T11:51:17.576395Z"
    }
   },
   "outputs": [],
   "source": [
    "word_to_id = {word:i for i,word in enumerate(all_words)}\n",
    "tag_to_id = {tag:i for i,tag in enumerate(all_tags)}"
   ]
  },
  {
   "cell_type": "markdown",
   "metadata": {},
   "source": [
    "Finished"
   ]
  },
  {
   "cell_type": "markdown",
   "metadata": {
    "id": "RCmGbwpP8aHu"
   },
   "source": [
    "convert words and tags into fixed-size matrix"
   ]
  },
  {
   "cell_type": "code",
   "execution_count": null,
   "metadata": {
    "id": "X7kx6jWn8aHu"
   },
   "outputs": [],
   "source": [
    "def to_matrix(lines, token_to_id, max_len=None, pad=0, dtype='int32', time_major=False):\n",
    "    \"\"\"Converts a list of names into rnn-digestable matrix with paddings added after the end\"\"\"\n",
    "    \n",
    "    max_len = max_len or max(map(len,lines))\n",
    "    matrix = np.empty([len(lines), max_len],dtype)\n",
    "    matrix.fill(pad)\n",
    "\n",
    "    for i in range(len(lines)):\n",
    "        line_ix = list(map(token_to_id.__getitem__,lines[i]))[:max_len]\n",
    "        matrix[i,:len(line_ix)] = line_ix\n",
    "\n",
    "    return matrix.T if time_major else matrix\n",
    "\n"
   ]
  },
  {
   "cell_type": "code",
   "execution_count": null,
   "metadata": {
    "id": "BCaE-i5u8aHu"
   },
   "outputs": [],
   "source": [
    "batch_words, batch_tags = zip(*[zip(*sentence) for sentence in data[-3:]])\n",
    "\n",
    "print(\"Word ids:\")\n",
    "print(to_matrix(batch_words, word_to_id))\n",
    "print(\"Tag ids:\")\n",
    "print(to_matrix(batch_tags, tag_to_id))"
   ]
  },
  {
   "cell_type": "markdown",
   "metadata": {
    "collapsed": true,
    "id": "_oK_i5Xa8aHv"
   },
   "source": [
    "### Build model\n",
    "\n",
    "Unlike our previous lab, this time we'll focus on a high-level keras interface to recurrent neural networks. It is as simple as you can get with RNN, allbeit somewhat constraining for complex tasks like seq2seq.\n",
    "\n",
    "By default, all keras RNNs apply to a whole sequence of inputs and produce a sequence of hidden states `(return_sequences=True` or just the last hidden state `(return_sequences=False)`. All the recurrence is happening under the hood.\n",
    "\n",
    "At the top of our model we need to apply a Dense layer to each time-step independently. As of now, by default keras.layers.Dense would apply once to all time-steps concatenated. We use __keras.layers.TimeDistributed__ to modify Dense layer so that it would apply across both batch and time axes."
   ]
  },
  {
   "cell_type": "code",
   "execution_count": 16,
   "metadata": {
    "ExecuteTime": {
     "end_time": "2021-10-22T11:51:19.496398Z",
     "start_time": "2021-10-22T11:51:19.486398Z"
    },
    "id": "OQeb8d5j8aHv"
   },
   "outputs": [],
   "source": [
    "import keras\n",
    "import keras.layers as L"
   ]
  },
  {
   "cell_type": "code",
   "execution_count": 151,
   "metadata": {
    "ExecuteTime": {
     "end_time": "2021-10-18T15:27:05.018753Z",
     "start_time": "2021-10-18T15:27:04.988753Z"
    }
   },
   "outputs": [],
   "source": [
    "input_layer = keras.layers.Input(shape=[None],batch_size=12,dtype=np.int16 )"
   ]
  },
  {
   "cell_type": "code",
   "execution_count": 152,
   "metadata": {
    "ExecuteTime": {
     "end_time": "2021-10-18T15:27:21.183776Z",
     "start_time": "2021-10-18T15:27:21.083776Z"
    }
   },
   "outputs": [],
   "source": [
    "words_vocabulary_length = len(word_to_id)\n",
    "\n",
    "embedding_layer = keras.layers.Embedding(input_dim=words_vocabulary_length, \n",
    "                                        output_dim=100,\n",
    "                                        input_length=12)(input_layer)"
   ]
  },
  {
   "cell_type": "code",
   "execution_count": 153,
   "metadata": {
    "ExecuteTime": {
     "end_time": "2021-10-18T15:31:57.727179Z",
     "start_time": "2021-10-18T15:31:57.607179Z"
    }
   },
   "outputs": [],
   "source": [
    "rnn_hidden_state = len(tag_to_id)\n",
    "\n",
    "RNN_layer = keras.layers.SimpleRNN(units = rnn_hidden_state,\n",
    "                                  activation = 'tanh',\n",
    "                                  return_sequences=True,\n",
    "                                  stateful=True)(embedding_layer)"
   ]
  },
  {
   "cell_type": "code",
   "execution_count": 156,
   "metadata": {
    "ExecuteTime": {
     "end_time": "2021-10-18T15:38:08.584703Z",
     "start_time": "2021-10-18T15:38:08.534703Z"
    }
   },
   "outputs": [],
   "source": [
    "Dense_layer = keras.layers.Dense(len(tag_to_id),activation=keras.activations.softmax)\n",
    "Time_Distibuted_layer = keras.layers.TimeDistributed(Dense_layer)(RNN_layer)"
   ]
  },
  {
   "cell_type": "code",
   "execution_count": 157,
   "metadata": {
    "ExecuteTime": {
     "end_time": "2021-10-18T15:39:15.487800Z",
     "start_time": "2021-10-18T15:39:15.467800Z"
    }
   },
   "outputs": [],
   "source": [
    "model = keras.models.Model(inputs = input_layer, outputs = Time_Distibuted_layer  )"
   ]
  },
  {
   "cell_type": "code",
   "execution_count": 159,
   "metadata": {
    "ExecuteTime": {
     "end_time": "2021-10-18T15:39:26.720816Z",
     "start_time": "2021-10-18T15:39:26.710816Z"
    }
   },
   "outputs": [
    {
     "name": "stdout",
     "output_type": "stream",
     "text": [
      "Model: \"model\"\n",
      "_________________________________________________________________\n",
      "Layer (type)                 Output Shape              Param #   \n",
      "=================================================================\n",
      "input_1 (InputLayer)         [(12, None)]              0         \n",
      "_________________________________________________________________\n",
      "embedding (Embedding)        (12, None, 100)           1000200   \n",
      "_________________________________________________________________\n",
      "simple_rnn (SimpleRNN)       (12, None, 14)            1610      \n",
      "_________________________________________________________________\n",
      "time_distributed (TimeDistri (12, None, 14)            210       \n",
      "=================================================================\n",
      "Total params: 1,002,020\n",
      "Trainable params: 1,002,020\n",
      "Non-trainable params: 0\n",
      "_________________________________________________________________\n"
     ]
    }
   ],
   "source": [
    "model.summary()"
   ]
  },
  {
   "cell_type": "code",
   "execution_count": 161,
   "metadata": {
    "ExecuteTime": {
     "end_time": "2021-10-18T15:42:09.683047Z",
     "start_time": "2021-10-18T15:42:09.663047Z"
    }
   },
   "outputs": [],
   "source": [
    "# here I will make the batch_preparator function:"
   ]
  },
  {
   "cell_type": "code",
   "execution_count": null,
   "metadata": {},
   "outputs": [],
   "source": [
    "# we will feed to model the sequence by sequence \n",
    "# as we have the \"Many to many\" (return_sequence=True), \n",
    "# we have to prepare the input sequence in fixed size --> we will make function: \"make_matrix_for_RNN\"\n",
    "# an empty space will fill with 'EOS',\n",
    "# an unknown word will fill with 'UNK'"
   ]
  },
  {
   "cell_type": "code",
   "execution_count": 430,
   "metadata": {
    "ExecuteTime": {
     "end_time": "2021-10-25T13:38:06.382314Z",
     "start_time": "2021-10-25T13:38:06.362314Z"
    }
   },
   "outputs": [],
   "source": [
    "pad_id,unknown_id = map(word_to_id.get, ['#EOS#','#UNK#'] )\n",
    "\n",
    "def make_matrix_for_RNN(sequences,max_len=None):\n",
    "    #sequences = data[:3]\n",
    "    # узнаем макс длину матрицы\n",
    "    if max_len is None:\n",
    "        max_len = min(max(map(len, sequences)), np.inf)\n",
    "    else: \n",
    "        max_len = max_len #min( max(map(len,sequences)),max_len ,np.inf)\n",
    "        \n",
    "    # создадим матрицу размера No.sequences, max_len, fill PAD\n",
    "    matrix_words = np.full(shape=(len(sequences),max_len ),fill_value=pad_id, dtype=int)\n",
    "    matrix_tags = np.full(shape=(len(sequences),max_len ),fill_value=pad_id, dtype=int)\n",
    "    \n",
    "    # пробежимся по матрице и каждый ряд заполняем id слова или (если такое слово отсутствует ставим UNK_id)\n",
    "    for i,line in enumerate(sequences):\n",
    "        word,tag = zip(*line)\n",
    "        a = [word_to_id.get(i,unknown_id) for i in word ]\n",
    "        b = [tag_to_id.get(i,unknown_id) for i in tag ]\n",
    "        \n",
    "        matrix_words[i,:len(a)] = a\n",
    "        matrix_tags[i,:len(b)] = b\n",
    "    return matrix_words,matrix_tags"
   ]
  },
  {
   "cell_type": "code",
   "execution_count": 56,
   "metadata": {
    "ExecuteTime": {
     "end_time": "2021-10-22T10:43:23.801993Z",
     "start_time": "2021-10-22T10:43:23.786993Z"
    }
   },
   "outputs": [
    {
     "data": {
      "text/plain": [
       "(array([[   2, 1635,  440,   63,    9,    1,    1,   10,    2,  239, 2029,\n",
       "          603,    3,   38,   28, 3108,  862,    5,    2, 1402,    3,   15,\n",
       "         5686,    2, 5435,    6, 2955,    5,    2,  239,    5, 3109,   16,\n",
       "           14,    2,  851,    9,   38,    2, 1402,   12, 2030,    4],\n",
       "        [   2,    1, 1372, 1635,   28,   51, 1957,   25, 5434, 2401,  417,\n",
       "         1403,    1,    1,    7, 7450, 1285,    5,  256,   15, 9200,   16,\n",
       "            9,    2,    1, 1121,   38,   12, 1596,   25,    1,    1, 4808,\n",
       "         1435,    4,    0,    0,    0,    0,    0,    0,    0,    0]]),\n",
       " array([[ 6,  3,  2,  9,  4,  3,  3,  4,  6,  3, 13,  3,  7,  6,  9, 13,\n",
       "          3,  4,  6,  3,  7,  7,  9,  6,  3, 12,  3,  4,  6,  3,  4,  3,\n",
       "          7,  4,  6,  3,  4,  6,  6,  3,  9,  9,  7],\n",
       "        [ 6,  3,  3,  3,  9,  9,  9,  4,  3, 13,  3,  3,  3,  3,  8,  9,\n",
       "          3,  4, 13,  7,  3,  7,  4,  6, 13,  3,  6,  9,  9,  4,  3,  3,\n",
       "          3,  3,  7,  0,  0,  0,  0,  0,  0,  0,  0]]))"
      ]
     },
     "execution_count": 56,
     "metadata": {},
     "output_type": "execute_result"
    }
   ],
   "source": [
    "#Check function\n",
    "make_matrix_for_RNN(data[1:3])"
   ]
  },
  {
   "cell_type": "code",
   "execution_count": null,
   "metadata": {},
   "outputs": [],
   "source": [
    "#batch_preparator function"
   ]
  },
  {
   "cell_type": "code",
   "execution_count": 428,
   "metadata": {
    "ExecuteTime": {
     "end_time": "2021-10-25T13:37:38.598275Z",
     "start_time": "2021-10-25T13:37:38.588275Z"
    }
   },
   "outputs": [],
   "source": [
    "from keras.utils.np_utils import to_categorical\n",
    "\n",
    "def iterate_minibatches(source,batch_size = 12,shuffle=True, **kwargs):\n",
    "    while True:\n",
    "        data_indexes = np.arange(len(source))\n",
    "        if shuffle:\n",
    "            #shuffle\n",
    "            data_indexes_shuffled = np.random.permutation(data_indexes)\n",
    "            batch_indexes = data_indexes_shuffled[:batch_size]\n",
    "        else:\n",
    "            # NO shuffle\n",
    "            batch_indexes = data_indexes[-batch_size:] #no shuffle is useless\n",
    "\n",
    "        #generating X and y \n",
    "        batch,target = make_matrix_for_RNN(source[batch_indexes], **kwargs)\n",
    "\n",
    "        target = to_categorical(target, len(all_tags) ).reshape(target.shape+(-1,))\n",
    "\n",
    "        yield batch,target"
   ]
  },
  {
   "cell_type": "markdown",
   "metadata": {
    "id": "lQbJqM2n8aHv"
   },
   "source": [
    "__Training:__ in this case we don't want to prepare the whole training dataset in advance. The main cause is that the length of every batch depends on the maximum sentence length within the batch. This leaves us two options: use custom training code as in previous seminar or use generators.\n",
    "\n",
    "Keras models have a __`model.fit_generator`__ method that accepts a python generator yielding one batch at a time. But first we need to implement such generator:"
   ]
  },
  {
   "cell_type": "code",
   "execution_count": 301,
   "metadata": {
    "ExecuteTime": {
     "end_time": "2021-10-20T08:35:17.612127Z",
     "start_time": "2021-10-20T08:35:17.592127Z"
    }
   },
   "outputs": [],
   "source": [
    "model.compile(optimizer='adam', \n",
    "              loss=keras.losses.categorical_crossentropy,\n",
    "              metrics=keras.metrics.categorical_accuracy)"
   ]
  },
  {
   "cell_type": "code",
   "execution_count": 300,
   "metadata": {
    "ExecuteTime": {
     "end_time": "2021-10-20T08:34:23.666051Z",
     "start_time": "2021-10-20T08:34:23.636051Z"
    }
   },
   "outputs": [],
   "source": [
    "callbacks = [keras.callbacks.ModelCheckpoint(\n",
    "        filepath='./saved_models/best_model.{epoch:03d}-loss_{val_loss:.2f}.h5',\n",
    "        save_best_only=True,\n",
    "        save_weights_only=True,\n",
    "        monitor='val_loss',\n",
    "        mode='min'),\n",
    "        \n",
    "        keras.callbacks.TensorBoard(\n",
    "        log_dir ='../TensorBoard_logs/' ,\n",
    "        histogram_freq = 1,\n",
    "        write_graph = False,\n",
    "        write_images = False,\n",
    "        write_steps_per_second = False,\n",
    "        update_freq = 'epoch',\n",
    "        profile_batch = 2,\n",
    "        embeddings_freq = 1\n",
    "        )]"
   ]
  },
  {
   "cell_type": "code",
   "execution_count": 25,
   "metadata": {
    "ExecuteTime": {
     "end_time": "2021-10-22T06:41:55.759806Z",
     "start_time": "2021-10-22T06:41:55.744806Z"
    }
   },
   "outputs": [],
   "source": [
    "#make validation split\n",
    "from sklearn.model_selection import train_test_split\n",
    "X_train, X_val = train_test_split(train_data,test_size=0.15,random_state=255)"
   ]
  },
  {
   "cell_type": "code",
   "execution_count": 324,
   "metadata": {
    "ExecuteTime": {
     "end_time": "2021-10-20T09:09:34.097082Z",
     "start_time": "2021-10-20T09:03:54.795026Z"
    }
   },
   "outputs": [
    {
     "name": "stdout",
     "output_type": "stream",
     "text": [
      "Epoch 1/5\n",
      "2811/2811 [==============================] - 68s 24ms/step - loss: 0.0689 - categorical_accuracy: 0.9768 - val_loss: 0.0706 - val_categorical_accuracy: 0.9765\n",
      "Epoch 2/5\n",
      "2811/2811 [==============================] - 69s 25ms/step - loss: 0.0644 - categorical_accuracy: 0.9783 - val_loss: 0.0694 - val_categorical_accuracy: 0.9768\n",
      "Epoch 3/5\n",
      "2811/2811 [==============================] - 67s 24ms/step - loss: 0.0615 - categorical_accuracy: 0.9793 - val_loss: 0.0712 - val_categorical_accuracy: 0.9763\n",
      "Epoch 4/5\n",
      "2811/2811 [==============================] - 67s 24ms/step - loss: 0.0593 - categorical_accuracy: 0.9800 - val_loss: 0.0740 - val_categorical_accuracy: 0.9757\n",
      "Epoch 5/5\n",
      "2811/2811 [==============================] - 67s 24ms/step - loss: 0.0579 - categorical_accuracy: 0.9805 - val_loss: 0.0700 - val_categorical_accuracy: 0.9767\n"
     ]
    },
    {
     "data": {
      "text/plain": [
       "<keras.callbacks.History at 0x559c6520>"
      ]
     },
     "execution_count": 324,
     "metadata": {},
     "output_type": "execute_result"
    }
   ],
   "source": [
    "batch_size = 12\n",
    "epochs = 5\n",
    "step_per_epoch = (len(X_train)+1) // (batch_size+1)\n",
    "validation_steps = (len(X_val)+1) // (batch_size+1)\n",
    "\n",
    "model.fit(iterate_minibatches(X_train, batch_size = batch_size ,shuffle=True),\n",
    "         epochs = epochs, steps_per_epoch = step_per_epoch,\n",
    "         callbacks = callbacks,\n",
    "         validation_data = iterate_minibatches(X_val, batch_size = batch_size ,shuffle=True),\n",
    "         validation_steps = validation_steps, verbose=1 )"
   ]
  },
  {
   "cell_type": "code",
   "execution_count": 336,
   "metadata": {
    "ExecuteTime": {
     "end_time": "2021-10-20T09:23:08.946239Z",
     "start_time": "2021-10-20T09:23:07.925237Z"
    }
   },
   "outputs": [
    {
     "data": {
      "image/png": "[encoded data removed]",
      "text/plain": [
       "<Figure size 1080x360 with 2 Axes>"
      ]
     },
     "metadata": {
      "needs_background": "light"
     },
     "output_type": "display_data"
    }
   ],
   "source": [
    "make_plots(model,name='SimpleRNN+Dense(10)',save=True)"
   ]
  },
  {
   "cell_type": "markdown",
   "metadata": {
    "id": "zYoR9vgn8aHw"
   },
   "source": [
    "__Callbacks:__ Another thing we need is to measure model performance. The tricky part is not to count accuracy after sentence ends (on padding) and making sure we count all the validation data exactly once.\n",
    "\n",
    "While it isn't impossible to persuade Keras to do all of that, we may as well write our own callback that does that.\n",
    "Keras callbacks allow you to write a custom code to be ran once every epoch or every minibatch. We'll define one via LambdaCallback"
   ]
  },
  {
   "cell_type": "code",
   "execution_count": 270,
   "metadata": {
    "ExecuteTime": {
     "end_time": "2021-10-25T10:05:39.927086Z",
     "start_time": "2021-10-25T10:05:39.917086Z"
    }
   },
   "outputs": [],
   "source": [
    "from sklearn.metrics import accuracy_score\n",
    "\n",
    "def calc_test_accuracy(model):\n",
    "    acc =0\n",
    "    batches = len(test_data)//12\n",
    "    \n",
    "    for i in range(0,batches,1):\n",
    "        X,y = make_matrix_for_RNN(test_data[i*12:i*12+12])\n",
    "        y_predicted = model.predict(X)\n",
    "        y_predicted = np.argmax(y_predicted,axis=-1)\n",
    "        acc += accuracy_score(np.ravel(y),np.ravel(y_predicted))\n",
    "    \n",
    "    return acc/ batches"
   ]
  },
  {
   "cell_type": "markdown",
   "metadata": {
    "id": "TTN7C34V8aHy"
   },
   "source": [
    "Measure final accuracy on the whole test set."
   ]
  },
  {
   "cell_type": "code",
   "execution_count": 433,
   "metadata": {
    "ExecuteTime": {
     "end_time": "2021-10-20T10:20:14.374067Z",
     "start_time": "2021-10-20T10:20:14.354067Z"
    },
    "id": "tHgxnYB68aHy"
   },
   "outputs": [
    {
     "name": "stdout",
     "output_type": "stream",
     "text": [
      "Final accuracy: 0.97447\n"
     ]
    }
   ],
   "source": [
    "acc = calc_test_accuracy(model)\n",
    "print(\"Final accuracy: %.5f\"%acc)\n",
    "\n",
    "assert acc>0.94, \"Keras has gone on a rampage again, please contact course staff.\""
   ]
  },
  {
   "cell_type": "code",
   "execution_count": null,
   "metadata": {},
   "outputs": [],
   "source": []
  },
  {
   "cell_type": "markdown",
   "metadata": {
    "id": "5L5Prr4I8aHy"
   },
   "source": [
    "### Going bidirectional\n",
    "\n",
    "Since we're analyzing a full sequence, it's legal for us to look into future data.\n",
    "\n",
    "A simple way to achieve that is to go both directions at once, making a __bidirectional RNN__.\n",
    "\n",
    "In Keras you can achieve that both manually (using two LSTMs and Concatenate) and by using __`keras.layers.Bidirectional`__. \n",
    "\n",
    "This one works just as `TimeDistributed` we saw before: you wrap it around a recurrent layer (SimpleRNN now and LSTM/GRU later) and it actually creates two layers under the hood.\n",
    "\n",
    "Your first task is to use such a layer our POS-tagger."
   ]
  },
  {
   "cell_type": "code",
   "execution_count": 449,
   "metadata": {
    "ExecuteTime": {
     "end_time": "2021-10-20T10:56:05.247104Z",
     "start_time": "2021-10-20T10:56:05.027103Z"
    },
    "id": "xWfCrbh-8aHy"
   },
   "outputs": [],
   "source": [
    "#Define a model that utilizes bidirectional SimpleRNN\n",
    "model_2 = keras.models.Sequential()\n",
    "\n",
    "#input\n",
    "model_2.add(keras.layers.Input(shape=[None],batch_size=12,dtype=np.int16 ))\n",
    "\n",
    "#make Embedding\n",
    "words_vocabulary_length = len(word_to_id)\n",
    "model_2.add(keras.layers.Embedding(input_dim=words_vocabulary_length, \n",
    "          output_dim=100, input_length=12 ))\n",
    "\n",
    "#make two-directional RNN\n",
    "rnn_hidden_state = len(tag_to_id)\n",
    "RNN_layer = keras.layers.SimpleRNN(units = rnn_hidden_state,\n",
    "          activation = 'tanh',\n",
    "          return_sequences=True,\n",
    "          stateful=True) \n",
    "model_2.add( keras.layers.Bidirectional(RNN_layer) )\n",
    "            \n",
    "#make TimeDistibuted Dense\n",
    "Dense_layer = keras.layers.Dense(len(tag_to_id),activation=keras.activations.softmax)\n",
    "model_2.add( keras.layers.TimeDistributed(Dense_layer))        \n",
    "            "
   ]
  },
  {
   "cell_type": "code",
   "execution_count": 450,
   "metadata": {
    "ExecuteTime": {
     "end_time": "2021-10-20T10:56:07.737107Z",
     "start_time": "2021-10-20T10:56:07.727107Z"
    },
    "scrolled": true
   },
   "outputs": [
    {
     "name": "stdout",
     "output_type": "stream",
     "text": [
      "Model: \"sequential_7\"\n",
      "_________________________________________________________________\n",
      "Layer (type)                 Output Shape              Param #   \n",
      "=================================================================\n",
      "embedding_7 (Embedding)      (12, None, 100)           1000200   \n",
      "_________________________________________________________________\n",
      "bidirectional_4 (Bidirection (12, None, 28)            3220      \n",
      "_________________________________________________________________\n",
      "time_distributed_2 (TimeDist (12, None, 14)            406       \n",
      "=================================================================\n",
      "Total params: 1,003,826\n",
      "Trainable params: 1,003,826\n",
      "Non-trainable params: 0\n",
      "_________________________________________________________________\n"
     ]
    }
   ],
   "source": [
    "model_2.summary()"
   ]
  },
  {
   "cell_type": "code",
   "execution_count": 451,
   "metadata": {
    "ExecuteTime": {
     "end_time": "2021-10-20T10:56:15.298118Z",
     "start_time": "2021-10-20T10:56:15.268118Z"
    }
   },
   "outputs": [],
   "source": [
    "model_2.compile(optimizer='adam', \n",
    "              loss=keras.losses.categorical_crossentropy,\n",
    "              metrics=keras.metrics.categorical_accuracy)"
   ]
  },
  {
   "cell_type": "code",
   "execution_count": 454,
   "metadata": {
    "ExecuteTime": {
     "end_time": "2021-10-20T10:59:09.690363Z",
     "start_time": "2021-10-20T10:59:09.660363Z"
    }
   },
   "outputs": [],
   "source": [
    "callbacks = [keras.callbacks.ModelCheckpoint(\n",
    "        filepath='./saved_models/model_2.{epoch:03d}-loss_{val_loss:.2f}.h5',\n",
    "        save_best_only=True,\n",
    "        save_weights_only=True,\n",
    "        monitor='val_loss',\n",
    "        mode='min'),\n",
    "        \n",
    "        keras.callbacks.TensorBoard(\n",
    "        log_dir ='../TensorBoard_logs/model_2/' ,\n",
    "        histogram_freq = 1,\n",
    "        write_graph = False,\n",
    "        write_images = False,\n",
    "        write_steps_per_second = False,\n",
    "        update_freq = 'epoch',\n",
    "        profile_batch = 2,\n",
    "        embeddings_freq = 1\n",
    "        )]"
   ]
  },
  {
   "cell_type": "code",
   "execution_count": 323,
   "metadata": {
    "ExecuteTime": {
     "end_time": "2021-10-20T09:01:06.598789Z",
     "start_time": "2021-10-20T09:01:06.578789Z"
    }
   },
   "outputs": [],
   "source": [
    "#make validation split\n",
    "from sklearn.model_selection import train_test_split\n",
    "X_train, X_val = train_test_split(train_data,test_size=0.15,random_state=255)"
   ]
  },
  {
   "cell_type": "code",
   "execution_count": 455,
   "metadata": {
    "ExecuteTime": {
     "end_time": "2021-10-20T11:06:08.204864Z",
     "start_time": "2021-10-20T10:59:13.411368Z"
    }
   },
   "outputs": [
    {
     "name": "stdout",
     "output_type": "stream",
     "text": [
      "Epoch 1/5\n",
      "2811/2811 [==============================] - 86s 30ms/step - loss: 0.1667 - categorical_accuracy: 0.9556 - val_loss: 0.0612 - val_categorical_accuracy: 0.9808\n",
      "Epoch 2/5\n",
      "2811/2811 [==============================] - 82s 29ms/step - loss: 0.0490 - categorical_accuracy: 0.9845 - val_loss: 0.0540 - val_categorical_accuracy: 0.9828\n",
      "Epoch 3/5\n",
      "2811/2811 [==============================] - 81s 29ms/step - loss: 0.0400 - categorical_accuracy: 0.9873 - val_loss: 0.0538 - val_categorical_accuracy: 0.9833\n",
      "Epoch 4/5\n",
      "2811/2811 [==============================] - 82s 29ms/step - loss: 0.0345 - categorical_accuracy: 0.9892 - val_loss: 0.0559 - val_categorical_accuracy: 0.9830\n",
      "Epoch 5/5\n",
      "2811/2811 [==============================] - 83s 29ms/step - loss: 0.0320 - categorical_accuracy: 0.9901 - val_loss: 0.0555 - val_categorical_accuracy: 0.9833\n"
     ]
    },
    {
     "data": {
      "text/plain": [
       "<keras.callbacks.History at 0x5d066640>"
      ]
     },
     "execution_count": 455,
     "metadata": {},
     "output_type": "execute_result"
    }
   ],
   "source": [
    "batch_size = 12\n",
    "epochs = 5\n",
    "step_per_epoch = (len(X_train)+1) // (batch_size+1)\n",
    "validation_steps = (len(X_val)+1) // (batch_size+1)\n",
    "\n",
    "model_2.fit(iterate_minibatches(X_train, batch_size = batch_size ,shuffle=True),\n",
    "         epochs = epochs, steps_per_epoch = step_per_epoch,\n",
    "         callbacks = callbacks,\n",
    "         validation_data = iterate_minibatches(X_val, batch_size = batch_size ,shuffle=True),\n",
    "         validation_steps = validation_steps, verbose=1 )"
   ]
  },
  {
   "cell_type": "code",
   "execution_count": 456,
   "metadata": {
    "ExecuteTime": {
     "end_time": "2021-10-20T11:06:09.264866Z",
     "start_time": "2021-10-20T11:06:08.204864Z"
    },
    "scrolled": false
   },
   "outputs": [
    {
     "data": {
      "image/png": "[encoded data removed]",
      "text/plain": [
       "<Figure size 1080x360 with 2 Axes>"
      ]
     },
     "metadata": {
      "needs_background": "light"
     },
     "output_type": "display_data"
    }
   ],
   "source": [
    "make_plots(model_2,name='2-Direstional SimpleRNN + Dense(10)',save=True)"
   ]
  },
  {
   "cell_type": "markdown",
   "metadata": {
    "id": "zYoR9vgn8aHw"
   },
   "source": [
    "__Callbacks:__ Another thing we need is to measure model performance. The tricky part is not to count accuracy after sentence ends (on padding) and making sure we count all the validation data exactly once.\n",
    "\n",
    "While it isn't impossible to persuade Keras to do all of that, we may as well write our own callback that does that.\n",
    "Keras callbacks allow you to write a custom code to be ran once every epoch or every minibatch. We'll define one via LambdaCallback"
   ]
  },
  {
   "cell_type": "code",
   "execution_count": 426,
   "metadata": {
    "ExecuteTime": {
     "end_time": "2021-10-20T10:16:16.870731Z",
     "start_time": "2021-10-20T10:16:16.860731Z"
    }
   },
   "outputs": [],
   "source": [
    "from sklearn.metrics import accuracy_score\n",
    "\n",
    "def calc_test_accuracy(model):\n",
    "    acc =0\n",
    "    batches = len(test_data)//12\n",
    "    \n",
    "    for i in range(0,batches,1):\n",
    "        X,y = make_matrix_for_RNN(test_data[i*12:i*12+12])\n",
    "        y_predicted = model.predict(X)\n",
    "        y_predicted = np.argmax(y_predicted,axis=-1)\n",
    "        acc += accuracy_score(np.ravel(y),np.ravel(y_predicted))\n",
    "    \n",
    "    return acc/ batches"
   ]
  },
  {
   "cell_type": "markdown",
   "metadata": {
    "id": "TTN7C34V8aHy"
   },
   "source": [
    "Measure final accuracy on the whole test set."
   ]
  },
  {
   "cell_type": "code",
   "execution_count": 459,
   "metadata": {
    "ExecuteTime": {
     "end_time": "2021-10-20T11:32:47.056117Z",
     "start_time": "2021-10-20T11:32:47.036117Z"
    },
    "id": "tHgxnYB68aHy"
   },
   "outputs": [
    {
     "name": "stdout",
     "output_type": "stream",
     "text": [
      "Final accuracy: 0.98200\n",
      "Well done!\n"
     ]
    }
   ],
   "source": [
    "acc = calc_test_accuracy(model_2)\n",
    "print(\"Final accuracy: %.5f\"%acc)\n",
    "\n",
    "assert acc>0.94, \"Bidirectional RNNs are better than this!\"\n",
    "print(\"Well done!\")"
   ]
  },
  {
   "cell_type": "markdown",
   "metadata": {
    "id": "VW_nFppS8aH0"
   },
   "source": [
    "Task I: Structured loss functions (more bonus points)\n",
    "\n",
    "Since we're tagging the whole sequence at once, we might as well train our network to do so. Remember linear CRF from the lecture? You can also use it as a loss function for your RNN\n",
    "\n",
    "\n",
    "  * There's more than one way to do so, but we'd recommend starting with [Conditional Random Fields](http://blog.echen.me/2012/01/03/introduction-to-conditional-random-fields/)\n",
    "  * You can plug CRF as a loss function and still train by backprop. There's even some neat tensorflow [implementation](https://www.tensorflow.org/addons/api_docs/python/tfa/layers/CRF) for you.\n",
    "  * Alternatively, you can condition your model on previous tags (make it autoregressive) and perform __beam search__ over that model."
   ]
  },
  {
   "cell_type": "markdown",
   "metadata": {},
   "source": [
    "### Model with the last CRF layer\n",
    "Embedding -> 2-directional SimpleRNN -> CRF"
   ]
  },
  {
   "cell_type": "code",
   "execution_count": 41,
   "metadata": {
    "ExecuteTime": {
     "end_time": "2021-10-22T13:32:20.364454Z",
     "start_time": "2021-10-22T13:32:20.034454Z"
    },
    "id": "xWfCrbh-8aHy"
   },
   "outputs": [],
   "source": [
    "#Define a model that utilizes Embedding -> 2-directional SimpleRNN -> CRF \n",
    "\n",
    "#input\n",
    "input_layer = keras.layers.Input(shape=[None],batch_size=12,dtype=np.int32 )\n",
    "\n",
    "#make Embedding\n",
    "words_vocabulary_length = len(word_to_id)\n",
    "embedding_layer = keras.layers.Embedding(input_dim=words_vocabulary_length, \n",
    "          output_dim=100, input_length=12 )(input_layer)\n",
    "\n",
    "#make two-directional RNN\n",
    "rnn_hidden_state = len(tag_to_id)\n",
    "RNN_layer = keras.layers.SimpleRNN(units = rnn_hidden_state,\n",
    "          activation = 'tanh',\n",
    "          return_sequences=True,\n",
    "          stateful=True) \n",
    "two_dir_RNN_layer = keras.layers.Bidirectional(RNN_layer)(embedding_layer)\n",
    "            \n",
    "#make CRF\n",
    "#слой CRF будет иметь количество сущностей = количеству тэгов(crf_entity)\n",
    "crf_entity = len(tag_to_id)\n",
    "CRF_layer = tfa.layers.CRF(units = crf_entity)(inputs=two_dir_RNN_layer )   \n",
    "#result = CRF_layer[0]\n",
    "\n",
    "model_3 = keras.models.Model(inputs = input_layer, outputs = CRF_layer  )"
   ]
  },
  {
   "cell_type": "code",
   "execution_count": 42,
   "metadata": {
    "ExecuteTime": {
     "end_time": "2021-10-22T13:32:22.154457Z",
     "start_time": "2021-10-22T13:32:22.134457Z"
    }
   },
   "outputs": [
    {
     "name": "stdout",
     "output_type": "stream",
     "text": [
      "Model: \"model_2\"\n",
      "_________________________________________________________________\n",
      "Layer (type)                 Output Shape              Param #   \n",
      "=================================================================\n",
      "input_3 (InputLayer)         [(12, None)]              0         \n",
      "_________________________________________________________________\n",
      "embedding_2 (Embedding)      (12, None, 100)           1000200   \n",
      "_________________________________________________________________\n",
      "bidirectional_2 (Bidirection (12, None, 28)            3220      \n",
      "_________________________________________________________________\n",
      "crf_2 (CRF)                  [(12, None), (12, None, 1 630       \n",
      "=================================================================\n",
      "Total params: 1,004,050\n",
      "Trainable params: 1,004,050\n",
      "Non-trainable params: 0\n",
      "_________________________________________________________________\n"
     ]
    }
   ],
   "source": [
    "model_3.summary()"
   ]
  },
  {
   "cell_type": "code",
   "execution_count": 43,
   "metadata": {
    "ExecuteTime": {
     "end_time": "2021-10-22T13:32:38.267480Z",
     "start_time": "2021-10-22T13:32:38.247480Z"
    }
   },
   "outputs": [],
   "source": [
    "model_3.compile(optimizer='adam', #loss=keras.losses.sparse_categorical_crossentropy ,\n",
    "              metrics=keras.metrics.sparse_categorical_accuracy)"
   ]
  },
  {
   "cell_type": "code",
   "execution_count": 20,
   "metadata": {
    "ExecuteTime": {
     "end_time": "2021-10-22T11:52:05.317463Z",
     "start_time": "2021-10-22T11:52:05.297463Z"
    }
   },
   "outputs": [],
   "source": [
    "callbacks = [keras.callbacks.ModelCheckpoint(\n",
    "        filepath='./saved_models/model_3.{epoch:03d}-loss_{val_loss:.2f}.h5',\n",
    "        save_best_only=True,\n",
    "        save_weights_only=True,\n",
    "        monitor='val_loss',\n",
    "        mode='min'),\n",
    "        \n",
    "        keras.callbacks.TensorBoard(\n",
    "        log_dir ='../TensorBoard_logs/model_3/' ,\n",
    "        histogram_freq = 1,\n",
    "        write_graph = False,\n",
    "        write_images = False,\n",
    "        write_steps_per_second = False,\n",
    "        update_freq = 'epoch',\n",
    "        profile_batch = 2,\n",
    "        embeddings_freq = 1\n",
    "        )]"
   ]
  },
  {
   "cell_type": "code",
   "execution_count": 21,
   "metadata": {
    "ExecuteTime": {
     "end_time": "2021-10-22T11:52:06.437464Z",
     "start_time": "2021-10-22T11:52:06.427464Z"
    }
   },
   "outputs": [],
   "source": [
    "#make validation split\n",
    "from sklearn.model_selection import train_test_split\n",
    "X_train, X_val = train_test_split(train_data,test_size=0.15,random_state=255)"
   ]
  },
  {
   "cell_type": "code",
   "execution_count": 22,
   "metadata": {
    "ExecuteTime": {
     "end_time": "2021-10-22T11:52:09.598469Z",
     "start_time": "2021-10-22T11:52:09.578469Z"
    }
   },
   "outputs": [],
   "source": [
    "#from keras.utils.np_utils import to_categorical\n",
    "\n",
    "def iterate_minibatches_for_CRF(source,batch_size = 12,shuffle=True, **kwargs):\n",
    "    while True:\n",
    "        data_indexes = np.arange(len(source))\n",
    "        if shuffle:\n",
    "            #shuffle\n",
    "            data_indexes_shuffled = np.random.permutation(data_indexes)\n",
    "            batch_indexes = data_indexes_shuffled[:batch_size]\n",
    "        else:\n",
    "            # NO shuffle\n",
    "            batch_indexes = data_indexes[-batch_size:] #no shuffle is useless\n",
    "\n",
    "        #generating X and y \n",
    "        batch,target = make_matrix_for_RNN(source[batch_indexes], **kwargs)\n",
    "\n",
    "\n",
    "        yield batch,target"
   ]
  },
  {
   "cell_type": "markdown",
   "metadata": {},
   "source": [
    "#### Другая функция лосс\n",
    "Как оказалось:\n",
    "Обычная keras.losses.sparse_categorical_crossentropy для слоя CRF не подходит.  \n",
    "Функция CRF имеет свою функцию ошибок - log likelihood\n",
    "\n",
    "но функция log растет. Добавим минус перед функцией чтобы функция убывала. "
   ]
  },
  {
   "cell_type": "code",
   "execution_count": 35,
   "metadata": {
    "ExecuteTime": {
     "end_time": "2021-10-22T13:05:07.106152Z",
     "start_time": "2021-10-22T13:05:07.086152Z"
    }
   },
   "outputs": [],
   "source": [
    "from tensorflow_addons.text.crf import crf_log_likelihood"
   ]
  },
  {
   "cell_type": "markdown",
   "metadata": {},
   "source": [
    "crf_log_likelihood()\n",
    "* inputs: A [batch_size, max_seq_len, num_tags] tensor of unary potentials to use as input to the CRF layer.\n",
    "* tag_indices: A [batch_size, max_seq_len] matrix of tag indices for which we compute the log-likelihood.\n",
    "* sequence_lengths: A [batch_size] vector of true sequence lengths.\n",
    "* transition_params: A [num_tags, num_tags] transition matrix, if available."
   ]
  },
  {
   "cell_type": "markdown",
   "metadata": {},
   "source": [
    "Создаю класс  \n",
    "которому скармливаешь модель со слоем CRF и он добавляет к ней функцию loss = - log_likelihood"
   ]
  },
  {
   "cell_type": "code",
   "execution_count": 89,
   "metadata": {
    "ExecuteTime": {
     "end_time": "2021-10-22T14:12:05.495080Z",
     "start_time": "2021-10-22T14:12:05.475080Z"
    }
   },
   "outputs": [],
   "source": [
    "class model_with_negative_log_loss(tf.keras.Model):\n",
    "    def __init__(self,base_model):\n",
    "        super().__init__()\n",
    "        self.base_model = base_model\n",
    "        \n",
    "    def call(self, inputs):\n",
    "        return self.base_model.call(inputs)\n",
    "    \n",
    "    def calc_loss(self,X,y,cycle=False):\n",
    "        y_pred = self.base_model(X, training=cycle)\n",
    "        decoded, probabilities, sequence_length, kernel = y_pred\n",
    "        \n",
    "        #loss\n",
    "        negative_log_loss = -crf_log_likelihood(inputs = probabilities, tag_indices = y,\n",
    "                                       sequence_lengths = sequence_length,\n",
    "                                      transition_params = kernel)[0]\n",
    "        return tf.reduce_mean(negative_log_loss)\n",
    "    \n",
    "    def train_iteration(self, input_data):\n",
    "        X,y = input_data\n",
    "        \n",
    "        with tf.GradientTape() as tape:\n",
    "            negative_log_loss = self.calc_loss(X,y,cycle=False)\n",
    "        \n",
    "        gradients = tape.gradient(negative_log_loss, self.trainable_variables)\n",
    "        self.optimizer.apply_gradients(zip(gradients,self.trainable_variables))\n",
    "        \n",
    "        return {'CRF_loss':negative_log_loss}\n",
    "    \n",
    "    def test_step(self,val_data):\n",
    "        X,y = val_data\n",
    "        negative_log_loss = self.calc_loss(X,y)\n",
    "        \n",
    "        return {'CRF_loss_val':negative_log_loss}"
   ]
  },
  {
   "cell_type": "markdown",
   "metadata": {},
   "source": [
    "Оборачиваем:"
   ]
  },
  {
   "cell_type": "code",
   "execution_count": 279,
   "metadata": {
    "ExecuteTime": {
     "end_time": "2021-10-25T10:23:46.869627Z",
     "start_time": "2021-10-25T10:23:46.849627Z"
    }
   },
   "outputs": [],
   "source": [
    "model_3_with_nll = model_with_negative_log_loss(model_3)\n",
    "\n",
    "model_3_with_nll.compile(optimizer=tf.keras.optimizers.Adam(learning_rate=5e-3, epsilon=1e-08),\n",
    "              metrics=keras.metrics.sparse_categorical_accuracy )"
   ]
  },
  {
   "cell_type": "markdown",
   "metadata": {},
   "source": [
    "Создаем итератор по массивам X_train и X_val (validation):"
   ]
  },
  {
   "cell_type": "code",
   "execution_count": 151,
   "metadata": {
    "ExecuteTime": {
     "end_time": "2021-10-23T11:41:37.410129Z",
     "start_time": "2021-10-23T10:06:01.413338Z"
    }
   },
   "outputs": [
    {
     "name": "stdout",
     "output_type": "stream",
     "text": [
      "--ERROR:tensorflow:==================================\n",
      "Object was never used (type <class 'tensorflow.python.ops.tensor_array_ops.TensorArray'>):\n",
      "<tensorflow.python.ops.tensor_array_ops.TensorArray object at 0x0000000047B17730>\n",
      "If you want to mark it as used call its \"mark_used()\" method.\n",
      "It was originally created here:\n",
      "  File \"C:\\ProgramData\\Anaconda3\\lib\\site-packages\\keras\\backend.py\", line 4495, in <genexpr>\n",
      "    ta.write(time, out) for ta, out in zip(output_ta_t, flat_output))  File \"C:\\ProgramData\\Anaconda3\\lib\\site-packages\\tensorflow\\python\\util\\tf_should_use.py\", line 247, in wrapped\n",
      "    return _add_should_use_warning(fn(*args, **kwargs),\n",
      "==================================\n",
      "-------------------------------------------------/n An epoch 0 training loss= 2.318 \n",
      "An epoch 0 validation loss= 2.31 \n",
      "---------------------------------------------------/n An epoch 1 training loss= 1.773 \n",
      "An epoch 1 validation loss= 2.30 \n",
      "---------------------------------------------------/n An epoch 2 training loss= 0.847 \n",
      "An epoch 2 validation loss= 2.35 \n",
      "---------------------------------------------------/n An epoch 3 training loss= 2.158 \n",
      "An epoch 3 validation loss= 2.31 \n",
      "---------------------------------------------------/n An epoch 4 training loss= 1.468 \n",
      "An epoch 4 validation loss= 2.43 \n"
     ]
    }
   ],
   "source": [
    "#train_iteration:\n",
    "\n",
    "batch_size = 12\n",
    "epochs = 5\n",
    "step_per_epoch = (len(X_train)+1) // (batch_size+1)\n",
    "validation_steps = (len(X_val)+1) // (batch_size+1)\n",
    "\n",
    "for epoch in range(epochs):\n",
    "    print('|',end='')\n",
    "    dot_per_train_steps = int(step_per_epoch/50)\n",
    "    for step in range(step_per_epoch):\n",
    "        \n",
    "        result = model_3_with_nll.train_iteration( next(\n",
    "                        iterate_minibatches_for_CRF(X_train, batch_size = 12 ,shuffle=True) ) )\n",
    "        \n",
    "        if (step % dot_per_train_steps)==0: print('-',end='')\n",
    "    print('| An epoch {} training loss= {:.3f} '.format(epoch,np.array(result['CRF_loss']) ))\n",
    "    \n",
    "    a = np.array([], dtype=np.float32)\n",
    "    \n",
    "    for step in range(validation_steps):\n",
    "        result = model_3_with_nll.test_step( next(\n",
    "                        iterate_minibatches_for_CRF(X_val, batch_size = 12 ,shuffle=True) ) )\n",
    "        a = np.append(a,np.array(result['CRF_loss_val']))\n",
    "    print('An epoch {} validation loss= {:.2f} '.format(epoch, a.mean() ) )\n",
    "    "
   ]
  },
  {
   "cell_type": "markdown",
   "metadata": {
    "ExecuteTime": {
     "end_time": "2021-10-25T07:40:43.556701Z",
     "start_time": "2021-10-25T07:40:43.536701Z"
    }
   },
   "source": [
    "Напишем функцию расчета тестовой метрики.  \n",
    "Для ускорения скорости расчета:\n",
    "Создаем вычислительный граф - оборачиваем расчет model.predict() в tf.function.  "
   ]
  },
  {
   "cell_type": "code",
   "execution_count": 196,
   "metadata": {
    "ExecuteTime": {
     "end_time": "2021-10-25T07:25:58.734451Z",
     "start_time": "2021-10-25T07:25:58.714451Z"
    }
   },
   "outputs": [],
   "source": [
    "from sklearn.metrics import accuracy_score\n",
    "@tf.function  \n",
    "def predict(model,array):\n",
    "    return model(array)[0]"
   ]
  },
  {
   "cell_type": "code",
   "execution_count": 197,
   "metadata": {
    "ExecuteTime": {
     "end_time": "2021-10-25T07:26:00.974454Z",
     "start_time": "2021-10-25T07:26:00.954454Z"
    }
   },
   "outputs": [],
   "source": [
    "def calc_test_accuracy_CRF_model(model):\n",
    "    acc =0\n",
    "    batches = len(test_data)//12\n",
    "    \n",
    "    for i in range(0,batches,1):\n",
    "        X,y = make_matrix_for_RNN(test_data[i*12:i*12+12])\n",
    "        y_predicted = np.array(predict(model,X) )\n",
    "        #y_predicted = np.argmax(y_predicted,axis=-1)\n",
    "        acc += accuracy_score(np.ravel(y),np.ravel(y_predicted))\n",
    "    \n",
    "    return acc/ batches"
   ]
  },
  {
   "cell_type": "code",
   "execution_count": 203,
   "metadata": {
    "ExecuteTime": {
     "end_time": "2021-10-25T07:30:31.047838Z",
     "start_time": "2021-10-25T07:30:31.027838Z"
    },
    "id": "tHgxnYB68aHy"
   },
   "outputs": [
    {
     "name": "stdout",
     "output_type": "stream",
     "text": [
      "Final accuracy: 0.98200\n",
      "Well done! Bidirectional RNNs + CRF layer have a good result\n"
     ]
    }
   ],
   "source": [
    "acc = calc_test_accuracy_CRF_model(model_3_with_nll)\n",
    "print(\"Final accuracy: %.5f\"%acc)\n",
    "\n",
    "assert acc>0.96\n",
    "print(\"Well done! Bidirectional RNNs + CRF layer have a good result\")"
   ]
  },
  {
   "cell_type": "markdown",
   "metadata": {},
   "source": [
    "#### Вывод: \n",
    "Результат, по сравнению с моделью БЕЗ CRF слоя,  не отличается: \n",
    "- БЕЗ CRF слоя = 0.98200\n",
    "- C CRF слоем = 0.98200 (текущая модель)\n",
    "\n",
    "__вводить дополнительный CRF слой не рентабельно__"
   ]
  },
  {
   "cell_type": "markdown",
   "metadata": {
    "ExecuteTime": {
     "end_time": "2021-10-25T08:01:39.959471Z",
     "start_time": "2021-10-25T08:01:39.949471Z"
    }
   },
   "source": [
    "### Model with pre - trained embeddings"
   ]
  },
  {
   "cell_type": "code",
   "execution_count": 208,
   "metadata": {
    "ExecuteTime": {
     "end_time": "2021-10-25T08:18:05.877949Z",
     "start_time": "2021-10-25T08:18:05.677949Z"
    }
   },
   "outputs": [],
   "source": [
    "#Define a model that utilizes bidirectional SimpleRNN\n",
    "model_4 = keras.models.Sequential()\n",
    "\n",
    "#input\n",
    "model_4.add(keras.layers.Input(shape=[None],batch_size=12,dtype=np.int16 ))\n",
    "\n",
    "#make Embedding\n",
    "words_vocabulary_length = len(word_to_id)\n",
    "model_4.add(keras.layers.Embedding(input_dim=words_vocabulary_length, \n",
    "          output_dim=100, input_length=12 ))\n",
    "\n",
    "#make two-directional RNN\n",
    "rnn_hidden_state = len(tag_to_id)\n",
    "RNN_layer = keras.layers.SimpleRNN(units = rnn_hidden_state,\n",
    "          activation = 'tanh',\n",
    "          return_sequences=True,\n",
    "          stateful=True) \n",
    "model_4.add( keras.layers.Bidirectional(RNN_layer) )\n",
    "            \n",
    "#make TimeDistibuted Dense\n",
    "Dense_layer = keras.layers.Dense(len(tag_to_id),activation=keras.activations.softmax)\n",
    "model_4.add( keras.layers.TimeDistributed(Dense_layer))  "
   ]
  },
  {
   "cell_type": "code",
   "execution_count": 211,
   "metadata": {
    "ExecuteTime": {
     "end_time": "2021-10-25T08:19:31.866070Z",
     "start_time": "2021-10-25T08:19:31.846070Z"
    }
   },
   "outputs": [
    {
     "name": "stdout",
     "output_type": "stream",
     "text": [
      "Model: \"sequential_1\"\n",
      "_________________________________________________________________\n",
      "Layer (type)                 Output Shape              Param #   \n",
      "=================================================================\n",
      "embedding_4 (Embedding)      (12, None, 100)           1000200   \n",
      "_________________________________________________________________\n",
      "bidirectional_4 (Bidirection (12, None, 28)            3220      \n",
      "_________________________________________________________________\n",
      "time_distributed_1 (TimeDist (12, None, 14)            406       \n",
      "=================================================================\n",
      "Total params: 1,003,826\n",
      "Trainable params: 1,003,826\n",
      "Non-trainable params: 0\n",
      "_________________________________________________________________\n"
     ]
    }
   ],
   "source": [
    "model_4.summary()"
   ]
  },
  {
   "cell_type": "markdown",
   "metadata": {
    "ExecuteTime": {
     "end_time": "2021-10-25T08:33:54.537287Z",
     "start_time": "2021-10-25T08:33:54.517287Z"
    }
   },
   "source": [
    "#### load embeddings"
   ]
  },
  {
   "cell_type": "code",
   "execution_count": 246,
   "metadata": {
    "ExecuteTime": {
     "end_time": "2021-10-25T09:39:14.364546Z",
     "start_time": "2021-10-25T09:39:08.940538Z"
    }
   },
   "outputs": [
    {
     "name": "stdout",
     "output_type": "stream",
     "text": [
      "Total: \n",
      " words founded: 400000, \n",
      " IN word list and converted: 9771,\n",
      " NOT in word list: 390229\n"
     ]
    }
   ],
   "source": [
    "loaded_word_emb = {}\n",
    "hit = 0\n",
    "miss = 0\n",
    "\n",
    "with open('../embeddings/glove.6B.100d.txt','r',encoding='latin-1') as f:\n",
    "    for line in f:\n",
    "        word,*emb = line.split()\n",
    "        \n",
    "        if word in word_to_id.keys():\n",
    "            hit +=1\n",
    "            if word not in loaded_word_emb.keys():\n",
    "                loaded_word_emb[word] = []\n",
    "\n",
    "            emb = list(map(float,emb))\n",
    "            loaded_word_emb[word] = emb\n",
    "        else: \n",
    "            miss +=1\n",
    "f.close()\n",
    "print('Total: \\n words founded: {}, \\n IN word list and converted: {},\\n NOT in word list: {}'.format(hit+miss,hit,miss) )"
   ]
  },
  {
   "cell_type": "code",
   "execution_count": 264,
   "metadata": {
    "ExecuteTime": {
     "end_time": "2021-10-25T09:57:48.884323Z",
     "start_time": "2021-10-25T09:57:48.874323Z"
    }
   },
   "outputs": [
    {
     "name": "stdout",
     "output_type": "stream",
     "text": [
      "WORD_LIST: \n",
      " words in word list: 10002, \n",
      " converted words: 9771,\n",
      " percent of converted words: 97.69%\n"
     ]
    }
   ],
   "source": [
    "print('WORD_LIST: \\n words in word list: {}, \\n converted words: {},\\n percent of converted words: {:.2f}%'\n",
    "      .format(len(word_to_id),hit,hit/len(word_to_id) *100) )"
   ]
  },
  {
   "cell_type": "code",
   "execution_count": 247,
   "metadata": {
    "ExecuteTime": {
     "end_time": "2021-10-25T09:39:22.314557Z",
     "start_time": "2021-10-25T09:39:22.234557Z"
    }
   },
   "outputs": [],
   "source": [
    "# Сохраним вектора\n",
    "import pickle\n",
    "\n",
    "with open('./loaded_word_emb.pickle' , 'wb') as f:\n",
    "    pickle.dump(loaded_word_emb,f)\n",
    "f.close() "
   ]
  },
  {
   "cell_type": "code",
   "execution_count": null,
   "metadata": {},
   "outputs": [],
   "source": [
    "# Чтобы следующий раз не конвертировать\n",
    "\n",
    "# import pickle\n",
    "\n",
    "# with open('loaded_word_emb.pickle' , 'rb') as f:\n",
    "#     loaded_word_emb = pickle.load(f)\n",
    "# f.close()"
   ]
  },
  {
   "cell_type": "code",
   "execution_count": 248,
   "metadata": {
    "ExecuteTime": {
     "end_time": "2021-10-25T09:39:30.736569Z",
     "start_time": "2021-10-25T09:39:30.596569Z"
    }
   },
   "outputs": [
    {
     "name": "stdout",
     "output_type": "stream",
     "text": [
      "Done!\n"
     ]
    }
   ],
   "source": [
    "# Сделаем матрицу id[слова]: вектор\n",
    "emb_dimension = 100\n",
    "words_dimension = len(word_to_id.keys())\n",
    "import random\n",
    "random.seed = 255\n",
    "\n",
    "# fill the embeding matrix with random float\n",
    "embeding_matrix = np.random.rand(words_dimension,emb_dimension)\n",
    "\n",
    "hits=0\n",
    "for word,emb in loaded_word_emb.items():\n",
    "    embeding_matrix[ word_to_id[word] ] = np.array(emb)\n",
    "    hits +=1\n",
    "assert hits == hit\n",
    "print('Done!')"
   ]
  },
  {
   "cell_type": "code",
   "execution_count": 265,
   "metadata": {
    "ExecuteTime": {
     "end_time": "2021-10-25T09:58:13.247358Z",
     "start_time": "2021-10-25T09:58:13.237358Z"
    }
   },
   "outputs": [],
   "source": [
    "# load weights\n",
    "model_4.layers[0].embeddings_initializer = keras.initializers.Constant(embeding_matrix)\n",
    "model_4.layers[0].trainable = False"
   ]
  },
  {
   "cell_type": "code",
   "execution_count": 266,
   "metadata": {
    "ExecuteTime": {
     "end_time": "2021-10-25T09:58:18.288365Z",
     "start_time": "2021-10-25T09:58:18.268365Z"
    }
   },
   "outputs": [],
   "source": [
    "model_4.compile(optimizer='adam', \n",
    "              loss=keras.losses.categorical_crossentropy,\n",
    "              metrics=keras.metrics.categorical_accuracy)"
   ]
  },
  {
   "cell_type": "code",
   "execution_count": 267,
   "metadata": {
    "ExecuteTime": {
     "end_time": "2021-10-25T09:58:29.780381Z",
     "start_time": "2021-10-25T09:58:29.760381Z"
    }
   },
   "outputs": [],
   "source": [
    "callbacks = [keras.callbacks.ModelCheckpoint(\n",
    "        filepath='./saved_models/model_4.{epoch:03d}-loss_{val_loss:.2f}.h5',\n",
    "        save_best_only=True,\n",
    "        save_weights_only=True,\n",
    "        monitor='val_loss',\n",
    "        mode='min'),\n",
    "        \n",
    "        keras.callbacks.TensorBoard(\n",
    "        log_dir ='../TensorBoard_logs/model_4/' ,\n",
    "        histogram_freq = 1,\n",
    "        write_graph = False,\n",
    "        write_images = False,\n",
    "        write_steps_per_second = False,\n",
    "        update_freq = 'epoch',\n",
    "        profile_batch = 2,\n",
    "        embeddings_freq = 1\n",
    "        )]"
   ]
  },
  {
   "cell_type": "code",
   "execution_count": 268,
   "metadata": {
    "ExecuteTime": {
     "end_time": "2021-10-25T10:02:09.755773Z",
     "start_time": "2021-10-25T09:58:35.000388Z"
    },
    "scrolled": true
   },
   "outputs": [
    {
     "name": "stdout",
     "output_type": "stream",
     "text": [
      "Epoch 1/5\n",
      "2811/2811 [==============================] - 43s 15ms/step - loss: 0.0297 - categorical_accuracy: 0.9909 - val_loss: 0.0563 - val_categorical_accuracy: 0.9829\n",
      "Epoch 2/5\n",
      "2811/2811 [==============================] - 41s 15ms/step - loss: 0.0296 - categorical_accuracy: 0.9910 - val_loss: 0.0558 - val_categorical_accuracy: 0.9832\n",
      "Epoch 3/5\n",
      "2811/2811 [==============================] - 42s 15ms/step - loss: 0.0294 - categorical_accuracy: 0.9910 - val_loss: 0.0581 - val_categorical_accuracy: 0.9828\n",
      "Epoch 4/5\n",
      "2811/2811 [==============================] - 44s 16ms/step - loss: 0.0292 - categorical_accuracy: 0.9910 - val_loss: 0.0569 - val_categorical_accuracy: 0.9833\n",
      "Epoch 5/5\n",
      "2811/2811 [==============================] - 44s 15ms/step - loss: 0.0290 - categorical_accuracy: 0.9911 - val_loss: 0.0574 - val_categorical_accuracy: 0.9828\n"
     ]
    }
   ],
   "source": [
    "batch_size = 12\n",
    "epochs = 5\n",
    "step_per_epoch = (len(X_train)+1) // (batch_size+1)\n",
    "validation_steps = (len(X_val)+1) // (batch_size+1)\n",
    "\n",
    "history = model_4.fit(iterate_minibatches(X_train, batch_size = batch_size ,shuffle=True),\n",
    "         epochs = epochs, steps_per_epoch = step_per_epoch,\n",
    "         callbacks = callbacks,\n",
    "         validation_data = iterate_minibatches(X_val, batch_size = batch_size ,shuffle=True),\n",
    "         validation_steps = validation_steps, verbose=1 )"
   ]
  },
  {
   "cell_type": "code",
   "execution_count": 269,
   "metadata": {
    "ExecuteTime": {
     "end_time": "2021-10-25T10:02:29.758801Z",
     "start_time": "2021-10-25T10:02:28.857800Z"
    },
    "scrolled": false
   },
   "outputs": [
    {
     "data": {
      "image/png": "[encoded data removed]",
      "text/plain": [
       "<Figure size 1080x360 with 2 Axes>"
      ]
     },
     "metadata": {
      "needs_background": "light"
     },
     "output_type": "display_data"
    }
   ],
   "source": [
    "make_plots(model_4,name='preTrained Embeddings + 2-Direstional SimpleRNN + Dense(10)',save=True)"
   ]
  },
  {
   "cell_type": "code",
   "execution_count": 271,
   "metadata": {
    "ExecuteTime": {
     "end_time": "2021-10-25T10:08:07.216296Z",
     "start_time": "2021-10-25T10:07:09.282213Z"
    },
    "id": "tHgxnYB68aHy"
   },
   "outputs": [
    {
     "name": "stdout",
     "output_type": "stream",
     "text": [
      "Model(preTrained Embeddings + 2-Direstional SimpleRNN + Dense(10)) accuracy: 0.98215\n"
     ]
    }
   ],
   "source": [
    "acc = calc_test_accuracy(model_4)\n",
    "print(\"Model(preTrained Embeddings + 2-Direstional SimpleRNN + Dense(10)) accuracy: %.5f\"%acc)\n",
    "\n",
    "assert acc>0.94"
   ]
  },
  {
   "cell_type": "markdown",
   "metadata": {},
   "source": [
    "Результат модели БЕЗ обученных embedding-ов:"
   ]
  },
  {
   "cell_type": "code",
   "execution_count": 456,
   "metadata": {
    "ExecuteTime": {
     "end_time": "2021-10-20T11:06:09.264866Z",
     "start_time": "2021-10-20T11:06:08.204864Z"
    },
    "scrolled": false
   },
   "outputs": [
    {
     "data": {
      "image/png": "[encoded data removed]",
      "text/plain": [
       "<Figure size 1080x360 with 2 Axes>"
      ]
     },
     "metadata": {
      "needs_background": "light"
     },
     "output_type": "display_data"
    }
   ],
   "source": [
    "make_plots(model_2,name='2-Direstional SimpleRNN + Dense(10)',save=True)"
   ]
  },
  {
   "cell_type": "markdown",
   "metadata": {},
   "source": [
    "#### Вывод: \n",
    "Результат, по сравнению с моделью БЕЗ обученных векторов слов:\n",
    "- БЕЗ обученных векторов слов accuracy = 0.98200\n",
    "- C обученных векторов слов accuracy = 0.98215 (текущая модель)\n",
    "\n",
    "**Загружать вектора слов нет необходимости - модель на 2 эпохе сама подобрала правильные веса.** \n",
    "(скорее всего, имеет смысл, если слов очень много)"
   ]
  },
  {
   "cell_type": "markdown",
   "metadata": {},
   "source": [
    "### Model with word dropout"
   ]
  },
  {
   "cell_type": "code",
   "execution_count": 432,
   "metadata": {
    "ExecuteTime": {
     "end_time": "2021-10-25T13:39:08.812402Z",
     "start_time": "2021-10-25T13:39:08.802402Z"
    }
   },
   "outputs": [],
   "source": [
    "# word dropout function\n",
    "def make_dropout(matrix_words,matrix_tags, probability = 0.5 ,fill_value = None):\n",
    "    if fill_value is None: fill_value = tag_to_id['#UNK#'] # tag_to_id['#UNK#'] =1\n",
    "\n",
    "    #matrix,*_ = make_matrix_for_RNN(data[1:3])\n",
    "    mask = np.random.choice(2,size=matrix_words.shape,p=[probability,1-probability])\n",
    "    mask = mask & matrix_words   # mask &= matrix\n",
    "    mask = mask != 0             # mask != 0\n",
    "    \n",
    "    matrix_words = np.choose(mask,[matrix_words,np.full(shape = matrix_words.shape ,fill_value = fill_value)])\n",
    "    matrix_tags = np.choose(mask,[matrix_tags,np.full(shape = matrix_tags.shape ,fill_value = fill_value)])\n",
    "    \n",
    "    return matrix_words,matrix_tags"
   ]
  },
  {
   "cell_type": "code",
   "execution_count": 356,
   "metadata": {
    "ExecuteTime": {
     "end_time": "2021-10-25T11:30:19.510266Z",
     "start_time": "2021-10-25T11:30:19.490266Z"
    }
   },
   "outputs": [
    {
     "name": "stdout",
     "output_type": "stream",
     "text": [
      "Done\n"
     ]
    }
   ],
   "source": [
    "X,y = make_matrix_for_RNN(data[1:3])\n",
    "\n",
    "X_1,y_1 =make_dropout(X,y)\n",
    "\n",
    "assert np.sum(X_1 == 1)> np.sum(X == 1)\n",
    "assert np.sum(y_1 == 1)> np.sum(y == 1)\n",
    "assert np.sum(X_1 == 1)== np.sum(y_1 == 1)\n",
    "print('Done')\n",
    "del X_1,y_1"
   ]
  },
  {
   "cell_type": "code",
   "execution_count": 433,
   "metadata": {
    "ExecuteTime": {
     "end_time": "2021-10-25T13:39:12.042406Z",
     "start_time": "2021-10-25T13:39:12.022406Z"
    }
   },
   "outputs": [],
   "source": [
    "pad_id,unknown_id = map(word_to_id.get, ['#EOS#','#UNK#'] )\n",
    "\n",
    "def make_matrix_for_RNN(sequences,max_len=None,dropout=None):\n",
    "    #sequences = data[:3]\n",
    "    # узнаем макс длину матрицы\n",
    "    if max_len is None:\n",
    "        max_len = min(max(map(len, sequences)), np.inf) \n",
    "        \n",
    "    # создадим матрицу размера No.sequences, max_len, fill PAD\n",
    "    matrix_words = np.full(shape=(len(sequences),max_len ),fill_value=pad_id, dtype=int)\n",
    "    matrix_tags = np.full(shape=(len(sequences),max_len ),fill_value=pad_id, dtype=int)\n",
    "    \n",
    "    # пробежимся по матрице и каждый ряд заполняем id слова или (если такое слово отсутствует ставим UNK_id)\n",
    "    for i,line in enumerate(sequences):\n",
    "        word,tag = zip(*line)\n",
    "        a = [word_to_id.get(i,unknown_id) for i in word ]\n",
    "        b = [tag_to_id.get(i,unknown_id) for i in tag ]\n",
    "        b = [b[i] if a[i]!=1 else 1 for i in (range(len(a))) ]\n",
    "        \n",
    "        matrix_words[i,:len(a)] = a\n",
    "        matrix_tags[i,:len(b)] = b\n",
    "    # делаем дропаут\n",
    "    if dropout is not None:\n",
    "           matrix_words,matrix_tags = make_dropout(matrix_words,matrix_tags,probability=dropout)\n",
    "    \n",
    "    return matrix_words,matrix_tags"
   ]
  },
  {
   "cell_type": "code",
   "execution_count": 366,
   "metadata": {
    "ExecuteTime": {
     "end_time": "2021-10-25T11:35:29.449703Z",
     "start_time": "2021-10-25T11:35:29.249702Z"
    },
    "id": "xWfCrbh-8aHy"
   },
   "outputs": [],
   "source": [
    "#Define a model that utilizes dropout\n",
    "model_5 = keras.models.Sequential()\n",
    "\n",
    "#input\n",
    "model_5.add(keras.layers.Input(shape=[None],batch_size=12,dtype=np.int16 ))\n",
    "\n",
    "#make Embedding\n",
    "words_vocabulary_length = len(word_to_id)\n",
    "model_5.add(keras.layers.Embedding(input_dim=words_vocabulary_length, \n",
    "          output_dim=100, input_length=12 ))\n",
    "\n",
    "#make two-directional RNN\n",
    "rnn_hidden_state = len(tag_to_id)\n",
    "RNN_layer = keras.layers.SimpleRNN(units = rnn_hidden_state,\n",
    "          activation = 'tanh',\n",
    "          return_sequences=True,\n",
    "          stateful=True) \n",
    "model_5.add( keras.layers.Bidirectional(RNN_layer) )\n",
    "            \n",
    "#make TimeDistibuted Dense\n",
    "Dense_layer = keras.layers.Dense(len(tag_to_id),activation=keras.activations.softmax)\n",
    "model_5.add( keras.layers.TimeDistributed(Dense_layer))        \n",
    "            "
   ]
  },
  {
   "cell_type": "code",
   "execution_count": 367,
   "metadata": {
    "ExecuteTime": {
     "end_time": "2021-10-25T11:35:34.070709Z",
     "start_time": "2021-10-25T11:35:34.060709Z"
    },
    "scrolled": true
   },
   "outputs": [
    {
     "name": "stdout",
     "output_type": "stream",
     "text": [
      "Model: \"sequential_2\"\n",
      "_________________________________________________________________\n",
      "Layer (type)                 Output Shape              Param #   \n",
      "=================================================================\n",
      "embedding_5 (Embedding)      (12, None, 100)           1000200   \n",
      "_________________________________________________________________\n",
      "bidirectional_5 (Bidirection (12, None, 28)            3220      \n",
      "_________________________________________________________________\n",
      "time_distributed_2 (TimeDist (12, None, 14)            406       \n",
      "=================================================================\n",
      "Total params: 1,003,826\n",
      "Trainable params: 1,003,826\n",
      "Non-trainable params: 0\n",
      "_________________________________________________________________\n"
     ]
    }
   ],
   "source": [
    "model_5.summary()"
   ]
  },
  {
   "cell_type": "code",
   "execution_count": 368,
   "metadata": {
    "ExecuteTime": {
     "end_time": "2021-10-25T11:35:53.294736Z",
     "start_time": "2021-10-25T11:35:53.274736Z"
    }
   },
   "outputs": [],
   "source": [
    "model_5.compile(optimizer=tf.keras.optimizers.Adam(learning_rate=5e-3, epsilon=1e-08), \n",
    "              loss=keras.losses.categorical_crossentropy,\n",
    "              metrics=keras.metrics.categorical_accuracy)"
   ]
  },
  {
   "cell_type": "code",
   "execution_count": 369,
   "metadata": {
    "ExecuteTime": {
     "end_time": "2021-10-25T11:36:14.456766Z",
     "start_time": "2021-10-25T11:36:14.426766Z"
    }
   },
   "outputs": [],
   "source": [
    "callbacks = [keras.callbacks.ModelCheckpoint(\n",
    "        filepath='./saved_models/model_5.{epoch:03d}-loss_{val_loss:.2f}.h5',\n",
    "        save_best_only=True,\n",
    "        save_weights_only=True,\n",
    "        monitor='val_loss',\n",
    "        mode='min'),\n",
    "        \n",
    "        keras.callbacks.TensorBoard(\n",
    "        log_dir ='../TensorBoard_logs/' ,\n",
    "        histogram_freq = 1,\n",
    "        write_graph = False,\n",
    "        write_images = False,\n",
    "        write_steps_per_second = False,\n",
    "        update_freq = 'epoch',\n",
    "        profile_batch = 2,\n",
    "        embeddings_freq = 1\n",
    "        )]"
   ]
  },
  {
   "cell_type": "code",
   "execution_count": 371,
   "metadata": {
    "ExecuteTime": {
     "end_time": "2021-10-25T11:45:15.268855Z",
     "start_time": "2021-10-25T11:38:11.562075Z"
    }
   },
   "outputs": [
    {
     "name": "stdout",
     "output_type": "stream",
     "text": [
      "Epoch 1/5\n",
      "2811/2811 [==============================] - 86s 30ms/step - loss: 0.0582 - categorical_accuracy: 0.9837 - val_loss: 0.0348 - val_categorical_accuracy: 0.9892\n",
      "Epoch 2/5\n",
      "2811/2811 [==============================] - 83s 30ms/step - loss: 0.0228 - categorical_accuracy: 0.9924 - val_loss: 0.0314 - val_categorical_accuracy: 0.9901\n",
      "Epoch 3/5\n",
      "2811/2811 [==============================] - 84s 30ms/step - loss: 0.0203 - categorical_accuracy: 0.9931 - val_loss: 0.0292 - val_categorical_accuracy: 0.9909\n",
      "Epoch 4/5\n",
      "2811/2811 [==============================] - 84s 30ms/step - loss: 0.0189 - categorical_accuracy: 0.9935 - val_loss: 0.0292 - val_categorical_accuracy: 0.9909\n",
      "Epoch 5/5\n",
      "2811/2811 [==============================] - 84s 30ms/step - loss: 0.0187 - categorical_accuracy: 0.9936 - val_loss: 0.0287 - val_categorical_accuracy: 0.9910\n"
     ]
    },
    {
     "data": {
      "text/plain": [
       "<keras.callbacks.History at 0x8d99ee50>"
      ]
     },
     "execution_count": 371,
     "metadata": {},
     "output_type": "execute_result"
    }
   ],
   "source": [
    "batch_size = 12\n",
    "epochs = 5\n",
    "step_per_epoch = (len(X_train)+1) // (batch_size+1)\n",
    "validation_steps = (len(X_val)+1) // (batch_size+1)\n",
    "\n",
    "model_5.fit(iterate_minibatches(X_train, batch_size = batch_size ,shuffle=True,dropout=0.5),\n",
    "         epochs = epochs, steps_per_epoch = step_per_epoch,\n",
    "         callbacks = callbacks,\n",
    "         validation_data = iterate_minibatches(X_val, batch_size = batch_size ,shuffle=True),\n",
    "         validation_steps = validation_steps, verbose=1 )"
   ]
  },
  {
   "cell_type": "code",
   "execution_count": 372,
   "metadata": {
    "ExecuteTime": {
     "end_time": "2021-10-25T11:45:16.440858Z",
     "start_time": "2021-10-25T11:45:15.268855Z"
    },
    "scrolled": false
   },
   "outputs": [
    {
     "data": {
      "image/png": "[encoded data removed]",
      "text/plain": [
       "<Figure size 1080x360 with 2 Axes>"
      ]
     },
     "metadata": {
      "needs_background": "light"
     },
     "output_type": "display_data"
    }
   ],
   "source": [
    "make_plots(model_5,name='Word_Dropout(2-Direstional SimpleRNN + Dense(10))',save=True)"
   ]
  },
  {
   "cell_type": "code",
   "execution_count": 374,
   "metadata": {
    "ExecuteTime": {
     "end_time": "2021-10-25T11:50:10.233275Z",
     "start_time": "2021-10-25T11:49:13.907195Z"
    },
    "id": "tHgxnYB68aHy"
   },
   "outputs": [
    {
     "name": "stdout",
     "output_type": "stream",
     "text": [
      "Word_Dropout(2-Direstional SimpleRNN + Dense(10)) accuracy: 0.99087\n"
     ]
    }
   ],
   "source": [
    "acc = calc_test_accuracy(model_5)\n",
    "print(\"Word_Dropout(2-Direstional SimpleRNN + Dense(10)) accuracy: %.5f\"%acc)\n",
    "\n",
    "assert acc>0.94"
   ]
  },
  {
   "cell_type": "markdown",
   "metadata": {},
   "source": [
    "Результат модели БЕЗ dropout:"
   ]
  },
  {
   "cell_type": "markdown",
   "metadata": {},
   "source": [
    "#### Вывод: \n",
    "Топ результатов:  \n",
    "- БЕЗ dropout accuracy = 0.98200\n",
    "- C dropout accuracy = 0.99087 (текущая модель)\n",
    "\n",
    "**Добавлять dropout имеет значение**"
   ]
  },
  {
   "cell_type": "markdown",
   "metadata": {},
   "source": [
    "### Same with LSTM layer\n",
    "2-Direstional LSTM + Dense(10)"
   ]
  },
  {
   "cell_type": "code",
   "execution_count": 375,
   "metadata": {
    "ExecuteTime": {
     "end_time": "2021-10-25T12:37:25.992742Z",
     "start_time": "2021-10-25T12:37:25.422741Z"
    },
    "id": "xWfCrbh-8aHy"
   },
   "outputs": [],
   "source": [
    "#Define a model that utilizes LSTM\n",
    "model_6 = keras.models.Sequential()\n",
    "\n",
    "#input\n",
    "model_6.add(keras.layers.Input(shape=[None],batch_size=12,dtype=np.int16 ))\n",
    "\n",
    "#make Embedding\n",
    "words_vocabulary_length = len(word_to_id)\n",
    "model_6.add(keras.layers.Embedding(input_dim=words_vocabulary_length, \n",
    "          output_dim=100, input_length=12 ))\n",
    "\n",
    "#make two-directional RNN\n",
    "rnn_hidden_state = len(tag_to_id)\n",
    "LSTM_layer = keras.layers.LSTM(units = rnn_hidden_state,\n",
    "          activation = 'tanh',\n",
    "          return_sequences=True,\n",
    "          stateful=True) \n",
    "model_6.add( keras.layers.Bidirectional(LSTM_layer) )\n",
    "            \n",
    "#make TimeDistibuted Dense\n",
    "Dense_layer = keras.layers.Dense(len(tag_to_id),activation=keras.activations.softmax)\n",
    "model_6.add( keras.layers.TimeDistributed(Dense_layer))        \n",
    "            "
   ]
  },
  {
   "cell_type": "code",
   "execution_count": 376,
   "metadata": {
    "ExecuteTime": {
     "end_time": "2021-10-25T12:37:28.712746Z",
     "start_time": "2021-10-25T12:37:28.692746Z"
    },
    "scrolled": true
   },
   "outputs": [
    {
     "name": "stdout",
     "output_type": "stream",
     "text": [
      "Model: \"sequential_3\"\n",
      "_________________________________________________________________\n",
      "Layer (type)                 Output Shape              Param #   \n",
      "=================================================================\n",
      "embedding_6 (Embedding)      (12, None, 100)           1000200   \n",
      "_________________________________________________________________\n",
      "bidirectional_6 (Bidirection (12, None, 28)            12880     \n",
      "_________________________________________________________________\n",
      "time_distributed_3 (TimeDist (12, None, 14)            406       \n",
      "=================================================================\n",
      "Total params: 1,013,486\n",
      "Trainable params: 1,013,486\n",
      "Non-trainable params: 0\n",
      "_________________________________________________________________\n"
     ]
    }
   ],
   "source": [
    "model_6.summary()"
   ]
  },
  {
   "cell_type": "code",
   "execution_count": 377,
   "metadata": {
    "ExecuteTime": {
     "end_time": "2021-10-25T12:37:47.224772Z",
     "start_time": "2021-10-25T12:37:47.204772Z"
    }
   },
   "outputs": [],
   "source": [
    "model_6.compile(optimizer=tf.keras.optimizers.Adam(learning_rate=5e-3, epsilon=1e-08), \n",
    "              loss=keras.losses.categorical_crossentropy,\n",
    "              metrics=keras.metrics.categorical_accuracy)"
   ]
  },
  {
   "cell_type": "code",
   "execution_count": 378,
   "metadata": {
    "ExecuteTime": {
     "end_time": "2021-10-25T12:38:00.367790Z",
     "start_time": "2021-10-25T12:38:00.347790Z"
    }
   },
   "outputs": [],
   "source": [
    "callbacks = [keras.callbacks.ModelCheckpoint(\n",
    "        filepath='./saved_models/model_6.{epoch:03d}-loss_{val_loss:.2f}.h5',\n",
    "        save_best_only=True,\n",
    "        save_weights_only=True,\n",
    "        monitor='val_loss',\n",
    "        mode='min'),\n",
    "        \n",
    "        keras.callbacks.TensorBoard(\n",
    "        log_dir ='../TensorBoard_logs/' ,\n",
    "        histogram_freq = 1,\n",
    "        write_graph = False,\n",
    "        write_images = False,\n",
    "        write_steps_per_second = False,\n",
    "        update_freq = 'epoch',\n",
    "        profile_batch = 2,\n",
    "        embeddings_freq = 1\n",
    "        )]"
   ]
  },
  {
   "cell_type": "code",
   "execution_count": 379,
   "metadata": {
    "ExecuteTime": {
     "end_time": "2021-10-25T12:47:08.563856Z",
     "start_time": "2021-10-25T12:38:14.198810Z"
    }
   },
   "outputs": [
    {
     "name": "stdout",
     "output_type": "stream",
     "text": [
      "Epoch 1/5\n",
      "2811/2811 [==============================] - 106s 36ms/step - loss: 0.0761 - categorical_accuracy: 0.9782 - val_loss: 0.0286 - val_categorical_accuracy: 0.9915\n",
      "Epoch 2/5\n",
      "2811/2811 [==============================] - 102s 36ms/step - loss: 0.0195 - categorical_accuracy: 0.9939 - val_loss: 0.0252 - val_categorical_accuracy: 0.9926\n",
      "Epoch 3/5\n",
      "2811/2811 [==============================] - 107s 38ms/step - loss: 0.0159 - categorical_accuracy: 0.9951 - val_loss: 0.0255 - val_categorical_accuracy: 0.9924\n",
      "Epoch 4/5\n",
      "2811/2811 [==============================] - 115s 41ms/step - loss: 0.0137 - categorical_accuracy: 0.9957 - val_loss: 0.0255 - val_categorical_accuracy: 0.9924\n",
      "Epoch 5/5\n",
      "2811/2811 [==============================] - 104s 37ms/step - loss: 0.0121 - categorical_accuracy: 0.9962 - val_loss: 0.0276 - val_categorical_accuracy: 0.9923\n"
     ]
    },
    {
     "data": {
      "text/plain": [
       "<keras.callbacks.History at 0x959815b0>"
      ]
     },
     "execution_count": 379,
     "metadata": {},
     "output_type": "execute_result"
    }
   ],
   "source": [
    "batch_size = 12\n",
    "epochs = 5\n",
    "step_per_epoch = (len(X_train)+1) // (batch_size+1)\n",
    "validation_steps = (len(X_val)+1) // (batch_size+1)\n",
    "\n",
    "model_6.fit(iterate_minibatches(X_train, batch_size = batch_size ,shuffle=True),\n",
    "         epochs = epochs, steps_per_epoch = step_per_epoch,\n",
    "         callbacks = callbacks,\n",
    "         validation_data = iterate_minibatches(X_val, batch_size = batch_size ,shuffle=True),\n",
    "         validation_steps = validation_steps, verbose=1 )"
   ]
  },
  {
   "cell_type": "code",
   "execution_count": 380,
   "metadata": {
    "ExecuteTime": {
     "end_time": "2021-10-25T12:47:09.703857Z",
     "start_time": "2021-10-25T12:47:08.563856Z"
    },
    "scrolled": false
   },
   "outputs": [
    {
     "data": {
      "image/png": "[encoded data removed]",
      "text/plain": [
       "<Figure size 1080x360 with 2 Axes>"
      ]
     },
     "metadata": {
      "needs_background": "light"
     },
     "output_type": "display_data"
    }
   ],
   "source": [
    "make_plots(model_6,name='2-Direstional LSTM + Dense(10)',save=True)"
   ]
  },
  {
   "cell_type": "code",
   "execution_count": 383,
   "metadata": {
    "ExecuteTime": {
     "end_time": "2021-10-25T12:49:06.847023Z",
     "start_time": "2021-10-25T12:49:06.827023Z"
    },
    "id": "tHgxnYB68aHy"
   },
   "outputs": [
    {
     "name": "stdout",
     "output_type": "stream",
     "text": [
      "2-Direstional LSTM + Dense(10) accuracy: 0.99187\n"
     ]
    }
   ],
   "source": [
    "acc = calc_test_accuracy(model_6)\n",
    "print(\"2-Direstional LSTM + Dense(10) accuracy: %.5f\"%acc)\n",
    "\n",
    "assert acc>0.94"
   ]
  },
  {
   "cell_type": "markdown",
   "metadata": {},
   "source": [
    "#### Вывод: \n",
    "Топ результатов: \n",
    "- 2-Direstional RNN + Dense. accuracy = 0.98200\n",
    "- 2-Direstional RNN + dropout. accuracy = 0.99087\n",
    "- 2-Direstional __LSTM__ . accuracy = __0.99187__ (текущая модель)\n",
    "\n",
    "**Добавлять LSTM имеет значение**"
   ]
  },
  {
   "cell_type": "markdown",
   "metadata": {},
   "source": [
    "### LSTM layer + dropout \n",
    "2-Direstional LSTM (training dropout) + Dense(10)"
   ]
  },
  {
   "cell_type": "code",
   "execution_count": 389,
   "metadata": {
    "ExecuteTime": {
     "end_time": "2021-10-25T12:58:33.355825Z",
     "start_time": "2021-10-25T12:58:32.765825Z"
    }
   },
   "outputs": [],
   "source": [
    "#Define a model that utilizes LSTM\n",
    "#input\n",
    "input_layer = keras.layers.Input(shape=[None],batch_size=12,dtype=np.int16 )\n",
    "\n",
    "#make Embedding\n",
    "words_vocabulary_length = len(word_to_id)\n",
    "embedding_layer = keras.layers.Embedding(input_dim=words_vocabulary_length, \n",
    "                                        output_dim=100,\n",
    "                                        input_length=12)(input_layer)\n",
    "#make two-directional LSTM\n",
    "rnn_hidden_state = len(tag_to_id)\n",
    "LSTM_layer = keras.layers.LSTM(units = rnn_hidden_state,\n",
    "                                  activation = 'tanh',\n",
    "                                  dropout = .5,\n",
    "                                  return_sequences=True,\n",
    "                                  stateful=True)\n",
    "two_directional_LSTM_layer = keras.layers.Bidirectional(LSTM_layer)(inputs=(embedding_layer),training = True)\n",
    "\n",
    "#make TimeDistibuted Dense\n",
    "Dense_layer = keras.layers.Dense(len(tag_to_id),activation=keras.activations.softmax)\n",
    "Time_Distibuted_layer = keras.layers.TimeDistributed(Dense_layer)(two_directional_LSTM_layer)\n",
    "\n",
    "\n",
    "model_7 = keras.models.Model(inputs = input_layer, outputs = Time_Distibuted_layer  )"
   ]
  },
  {
   "cell_type": "code",
   "execution_count": 390,
   "metadata": {
    "ExecuteTime": {
     "end_time": "2021-10-25T12:58:34.955828Z",
     "start_time": "2021-10-25T12:58:34.935828Z"
    },
    "scrolled": true
   },
   "outputs": [
    {
     "name": "stdout",
     "output_type": "stream",
     "text": [
      "Model: \"model_5\"\n",
      "_________________________________________________________________\n",
      "Layer (type)                 Output Shape              Param #   \n",
      "=================================================================\n",
      "input_12 (InputLayer)        [(12, None)]              0         \n",
      "_________________________________________________________________\n",
      "embedding_11 (Embedding)     (12, None, 100)           1000200   \n",
      "_________________________________________________________________\n",
      "bidirectional_8 (Bidirection (12, None, 28)            12880     \n",
      "_________________________________________________________________\n",
      "time_distributed_5 (TimeDist (12, None, 14)            406       \n",
      "=================================================================\n",
      "Total params: 1,013,486\n",
      "Trainable params: 1,013,486\n",
      "Non-trainable params: 0\n",
      "_________________________________________________________________\n"
     ]
    }
   ],
   "source": [
    "model_7.summary()"
   ]
  },
  {
   "cell_type": "code",
   "execution_count": 393,
   "metadata": {
    "ExecuteTime": {
     "end_time": "2021-10-25T12:59:15.011884Z",
     "start_time": "2021-10-25T12:59:14.991884Z"
    }
   },
   "outputs": [],
   "source": [
    "model_7.compile(optimizer=tf.keras.optimizers.Adam(learning_rate=5e-3, epsilon=1e-08), \n",
    "              loss=keras.losses.categorical_crossentropy,\n",
    "              metrics=keras.metrics.categorical_accuracy)"
   ]
  },
  {
   "cell_type": "code",
   "execution_count": 394,
   "metadata": {
    "ExecuteTime": {
     "end_time": "2021-10-25T12:59:16.791887Z",
     "start_time": "2021-10-25T12:59:16.771887Z"
    }
   },
   "outputs": [],
   "source": [
    "callbacks = [keras.callbacks.ModelCheckpoint(\n",
    "        filepath='./saved_models/model_7.{epoch:03d}-loss_{val_loss:.2f}.h5',\n",
    "        save_best_only=True,\n",
    "        save_weights_only=True,\n",
    "        monitor='val_loss',\n",
    "        mode='min'),\n",
    "        \n",
    "        keras.callbacks.TensorBoard(\n",
    "        log_dir ='../TensorBoard_logs/' ,\n",
    "        histogram_freq = 1,\n",
    "        write_graph = False,\n",
    "        write_images = False,\n",
    "        write_steps_per_second = False,\n",
    "        update_freq = 'epoch',\n",
    "        profile_batch = 2,\n",
    "        embeddings_freq = 1\n",
    "        )]"
   ]
  },
  {
   "cell_type": "code",
   "execution_count": 395,
   "metadata": {
    "ExecuteTime": {
     "end_time": "2021-10-25T13:08:30.245689Z",
     "start_time": "2021-10-25T12:59:19.252890Z"
    }
   },
   "outputs": [
    {
     "name": "stdout",
     "output_type": "stream",
     "text": [
      "Epoch 1/5\n",
      "2811/2811 [==============================] - 110s 38ms/step - loss: 0.0853 - categorical_accuracy: 0.9762 - val_loss: 0.0335 - val_categorical_accuracy: 0.9900\n",
      "Epoch 2/5\n",
      "2811/2811 [==============================] - 110s 39ms/step - loss: 0.0264 - categorical_accuracy: 0.9918 - val_loss: 0.0299 - val_categorical_accuracy: 0.9907\n",
      "Epoch 3/5\n",
      "2811/2811 [==============================] - 108s 39ms/step - loss: 0.0243 - categorical_accuracy: 0.9923 - val_loss: 0.0305 - val_categorical_accuracy: 0.9907\n",
      "Epoch 4/5\n",
      "2811/2811 [==============================] - 109s 39ms/step - loss: 0.0227 - categorical_accuracy: 0.9928 - val_loss: 0.0296 - val_categorical_accuracy: 0.9907\n",
      "Epoch 5/5\n",
      "2811/2811 [==============================] - 112s 40ms/step - loss: 0.0222 - categorical_accuracy: 0.9930 - val_loss: 0.0294 - val_categorical_accuracy: 0.9912\n"
     ]
    },
    {
     "data": {
      "text/plain": [
       "<keras.callbacks.History at 0x95192400>"
      ]
     },
     "execution_count": 395,
     "metadata": {},
     "output_type": "execute_result"
    }
   ],
   "source": [
    "batch_size = 12\n",
    "epochs = 5\n",
    "step_per_epoch = (len(X_train)+1) // (batch_size+1)\n",
    "validation_steps = (len(X_val)+1) // (batch_size+1)\n",
    "\n",
    "model_7.fit(iterate_minibatches(X_train, batch_size = batch_size ,shuffle=True),\n",
    "         epochs = epochs, steps_per_epoch = step_per_epoch,\n",
    "         callbacks = callbacks,\n",
    "         validation_data = iterate_minibatches(X_val, batch_size = batch_size ,shuffle=True),\n",
    "         validation_steps = validation_steps, verbose=1 )"
   ]
  },
  {
   "cell_type": "code",
   "execution_count": 396,
   "metadata": {
    "ExecuteTime": {
     "end_time": "2021-10-25T13:08:32.207694Z",
     "start_time": "2021-10-25T13:08:30.245689Z"
    },
    "scrolled": false
   },
   "outputs": [
    {
     "data": {
      "image/png": "[encoded data removed]",
      "text/plain": [
       "<Figure size 1080x360 with 2 Axes>"
      ]
     },
     "metadata": {
      "needs_background": "light"
     },
     "output_type": "display_data"
    }
   ],
   "source": [
    "make_plots(model_7,name='2-Direstional LSTM(dropout) + Dense(10)',save=True)"
   ]
  },
  {
   "cell_type": "code",
   "execution_count": 397,
   "metadata": {
    "ExecuteTime": {
     "end_time": "2021-10-25T13:09:33.917782Z",
     "start_time": "2021-10-25T13:08:32.207694Z"
    },
    "id": "tHgxnYB68aHy"
   },
   "outputs": [
    {
     "name": "stdout",
     "output_type": "stream",
     "text": [
      "Word_Dropout(2-Directional LSTM(dropout) + Dense(10)) accuracy: 0.99074\n"
     ]
    }
   ],
   "source": [
    "acc = calc_test_accuracy(model_7)\n",
    "print(\"Word_Dropout(2-Directional LSTM(dropout) + Dense(10)) accuracy: %.5f\"%acc)\n",
    "\n",
    "assert acc>0.94"
   ]
  },
  {
   "cell_type": "code",
   "execution_count": 398,
   "metadata": {
    "ExecuteTime": {
     "end_time": "2021-10-25T13:09:34.987784Z",
     "start_time": "2021-10-25T13:09:33.917782Z"
    }
   },
   "outputs": [],
   "source": [
    "!telegram-send \"Job's_Done\""
   ]
  },
  {
   "cell_type": "markdown",
   "metadata": {},
   "source": [
    "#### Вывод: \n",
    "Топ результатов:  \n",
    "- 2-Direstional RNN + __word_dropout__. accuracy = 0.99087\n",
    "- 2-Direstional __LSTM__. accuracy = __0.99187__\n",
    "- 2-Direstional LSTM + __inuts_dropout__. accuracy = 0.99074 (текущая модель)\n",
    "\n",
    "**Добавлять inuts_dropout в LSTM НЕ имеет значение**  \n",
    "зато добавить word_dropout имеет значение"
   ]
  },
  {
   "cell_type": "markdown",
   "metadata": {},
   "source": [
    "### LSTM layer + Conv1D(64)  + Dense(10) "
   ]
  },
  {
   "cell_type": "code",
   "execution_count": 484,
   "metadata": {
    "ExecuteTime": {
     "end_time": "2021-10-25T13:57:00.071921Z",
     "start_time": "2021-10-25T13:56:59.480920Z"
    },
    "id": "xWfCrbh-8aHy"
   },
   "outputs": [],
   "source": [
    "#Define a model that utilizes LSTM layer + Conv1D(64)  + Dense(10) \n",
    "model_8 = keras.models.Sequential()\n",
    "\n",
    "#input\n",
    "model_8.add(keras.layers.Input(shape=[None],batch_size=12,dtype=np.int16 ))\n",
    "\n",
    "#make Embedding\n",
    "words_vocabulary_length = len(word_to_id)\n",
    "model_8.add(keras.layers.Embedding(input_dim=words_vocabulary_length, \n",
    "          output_dim=100, input_length=12 ))\n",
    "\n",
    "#make two-directional RNN\n",
    "rnn_hidden_state = len(tag_to_id)\n",
    "LSTM_layer = keras.layers.LSTM(units = rnn_hidden_state,\n",
    "          activation = 'tanh',\n",
    "          return_sequences=True,\n",
    "          stateful=True) \n",
    "model_8.add( keras.layers.Bidirectional(LSTM_layer) )\n",
    "\n",
    "#make Conv1D(64)\n",
    "model_8.add( keras.layers.Convolution1D(filters=64, kernel_size=3,padding='same', \n",
    "                            activation = keras.activations.relu ) )\n",
    "            \n",
    "#make TimeDistibuted Dense\n",
    "Dense_layer = keras.layers.Dense(len(tag_to_id),activation=keras.activations.softmax)\n",
    "model_8.add( keras.layers.TimeDistributed(Dense_layer))        \n",
    "            "
   ]
  },
  {
   "cell_type": "code",
   "execution_count": 464,
   "metadata": {
    "ExecuteTime": {
     "end_time": "2021-10-25T13:51:36.145456Z",
     "start_time": "2021-10-25T13:51:36.135456Z"
    },
    "scrolled": true
   },
   "outputs": [
    {
     "name": "stdout",
     "output_type": "stream",
     "text": [
      "Model: \"model_15\"\n",
      "_________________________________________________________________\n",
      "Layer (type)                 Output Shape              Param #   \n",
      "=================================================================\n",
      "input_24 (InputLayer)        [(12, None)]              0         \n",
      "_________________________________________________________________\n",
      "embedding_23 (Embedding)     (12, None, 100)           1000200   \n",
      "_________________________________________________________________\n",
      "lstm_17 (LSTM)               (12, None, 14)            6440      \n",
      "_________________________________________________________________\n",
      "conv1d_11 (Conv1D)           (12, None, 64)            2752      \n",
      "_________________________________________________________________\n",
      "max_pooling1d_10 (MaxPooling (12, None, 64)            0         \n",
      "_________________________________________________________________\n",
      "time_distributed_17 (TimeDis (12, None, 14)            910       \n",
      "=================================================================\n",
      "Total params: 1,010,302\n",
      "Trainable params: 1,010,302\n",
      "Non-trainable params: 0\n",
      "_________________________________________________________________\n"
     ]
    }
   ],
   "source": [
    "model_8.summary()"
   ]
  },
  {
   "cell_type": "code",
   "execution_count": 485,
   "metadata": {
    "ExecuteTime": {
     "end_time": "2021-10-25T13:57:03.461926Z",
     "start_time": "2021-10-25T13:57:03.451926Z"
    }
   },
   "outputs": [],
   "source": [
    "model_8.compile(optimizer=tf.keras.optimizers.Adam(learning_rate=5e-3, epsilon=1e-08), \n",
    "              loss=keras.losses.categorical_crossentropy,\n",
    "              metrics=keras.metrics.categorical_accuracy)"
   ]
  },
  {
   "cell_type": "code",
   "execution_count": 459,
   "metadata": {
    "ExecuteTime": {
     "end_time": "2021-10-25T13:46:56.769061Z",
     "start_time": "2021-10-25T13:46:56.739061Z"
    }
   },
   "outputs": [],
   "source": [
    "callbacks = [keras.callbacks.ModelCheckpoint(\n",
    "        filepath='./saved_models/model_8.{epoch:03d}-loss_{val_loss:.2f}.h5',\n",
    "        save_best_only=True,\n",
    "        save_weights_only=True,\n",
    "        monitor='val_loss',\n",
    "        mode='min'),\n",
    "        \n",
    "        keras.callbacks.TensorBoard(\n",
    "        log_dir ='../TensorBoard_logs/' ,\n",
    "        histogram_freq = 1,\n",
    "        write_graph = False,\n",
    "        write_images = False,\n",
    "        write_steps_per_second = False,\n",
    "        update_freq = 'epoch',\n",
    "        profile_batch = 2,\n",
    "        embeddings_freq = 1\n",
    "        )]"
   ]
  },
  {
   "cell_type": "code",
   "execution_count": 486,
   "metadata": {
    "ExecuteTime": {
     "end_time": "2021-10-25T14:06:33.970028Z",
     "start_time": "2021-10-25T13:57:06.813933Z"
    }
   },
   "outputs": [
    {
     "name": "stdout",
     "output_type": "stream",
     "text": [
      "Epoch 1/5\n",
      "2811/2811 [==============================] - 109s 37ms/step - loss: 0.0742 - categorical_accuracy: 0.9783 - val_loss: 0.0283 - val_categorical_accuracy: 0.9914\n",
      "Epoch 2/5\n",
      "2811/2811 [==============================] - 114s 41ms/step - loss: 0.0192 - categorical_accuracy: 0.9941 - val_loss: 0.0307 - val_categorical_accuracy: 0.9916\n",
      "Epoch 3/5\n",
      "2811/2811 [==============================] - 110s 39ms/step - loss: 0.0152 - categorical_accuracy: 0.9953 - val_loss: 0.0267 - val_categorical_accuracy: 0.9924\n",
      "Epoch 4/5\n",
      "2811/2811 [==============================] - 110s 39ms/step - loss: 0.0131 - categorical_accuracy: 0.9960 - val_loss: 0.0312 - val_categorical_accuracy: 0.9917\n",
      "Epoch 5/5\n",
      "2811/2811 [==============================] - 120s 43ms/step - loss: 0.0114 - categorical_accuracy: 0.9965 - val_loss: 0.0260 - val_categorical_accuracy: 0.9930\n"
     ]
    },
    {
     "data": {
      "text/plain": [
       "<keras.callbacks.History at 0x96cdefa0>"
      ]
     },
     "execution_count": 486,
     "metadata": {},
     "output_type": "execute_result"
    }
   ],
   "source": [
    "batch_size = 12\n",
    "epochs = 5\n",
    "step_per_epoch = (len(X_train)+1) // (batch_size+1)\n",
    "validation_steps = (len(X_val)+1) // (batch_size+1)\n",
    "\n",
    "model_8.fit(iterate_minibatches(X_train, batch_size = batch_size ,shuffle=True),\n",
    "         epochs = epochs, steps_per_epoch = step_per_epoch,\n",
    "         callbacks = callbacks,\n",
    "         validation_data = iterate_minibatches(X_val, batch_size = batch_size ,shuffle=True),\n",
    "         validation_steps = validation_steps, verbose=1 )"
   ]
  },
  {
   "cell_type": "code",
   "execution_count": 487,
   "metadata": {
    "ExecuteTime": {
     "end_time": "2021-10-25T14:06:36.611032Z",
     "start_time": "2021-10-25T14:06:34.310029Z"
    },
    "scrolled": false
   },
   "outputs": [
    {
     "data": {
      "image/png": "[encoded data removed]",
      "text/plain": [
       "<Figure size 1080x360 with 2 Axes>"
      ]
     },
     "metadata": {
      "needs_background": "light"
     },
     "output_type": "display_data"
    }
   ],
   "source": [
    "make_plots(model_8,name='2-Direstional LSTM + Conv1D + Dense(10)',save=True)"
   ]
  },
  {
   "cell_type": "code",
   "execution_count": 488,
   "metadata": {
    "ExecuteTime": {
     "end_time": "2021-10-25T14:08:16.820196Z",
     "start_time": "2021-10-25T14:06:36.611032Z"
    },
    "id": "tHgxnYB68aHy"
   },
   "outputs": [
    {
     "name": "stdout",
     "output_type": "stream",
     "text": [
      "WARNING:tensorflow:5 out of the last 1200 calls to <function Model.make_predict_function.<locals>.predict_function at 0x00000000B3D88670> triggered tf.function retracing. Tracing is expensive and the excessive number of tracings could be due to (1) creating @tf.function repeatedly in a loop, (2) passing tensors with different shapes, (3) passing Python objects instead of tensors. For (1), please define your @tf.function outside of the loop. For (2), @tf.function has experimental_relax_shapes=True option that relaxes argument shapes that can avoid unnecessary retracing. For (3), please refer to https://www.tensorflow.org/guide/function#controlling_retracing and https://www.tensorflow.org/api_docs/python/tf/function for  more details.\n"
     ]
    },
    {
     "name": "stderr",
     "output_type": "stream",
     "text": [
      "WARNING:tensorflow:5 out of the last 1200 calls to <function Model.make_predict_function.<locals>.predict_function at 0x00000000B3D88670> triggered tf.function retracing. Tracing is expensive and the excessive number of tracings could be due to (1) creating @tf.function repeatedly in a loop, (2) passing tensors with different shapes, (3) passing Python objects instead of tensors. For (1), please define your @tf.function outside of the loop. For (2), @tf.function has experimental_relax_shapes=True option that relaxes argument shapes that can avoid unnecessary retracing. For (3), please refer to https://www.tensorflow.org/guide/function#controlling_retracing and https://www.tensorflow.org/api_docs/python/tf/function for  more details.\n"
     ]
    },
    {
     "name": "stdout",
     "output_type": "stream",
     "text": [
      "Word_Dropout(2-Directional LSTM(dropout) + Dense(10)) accuracy: 0.99255\n"
     ]
    }
   ],
   "source": [
    "acc = calc_test_accuracy(model_8)\n",
    "print(\"Word_Dropout(2-Directional LSTM(dropout) + Dense(10)) accuracy: %.5f\"%acc)\n",
    "\n",
    "assert acc>0.94"
   ]
  },
  {
   "cell_type": "markdown",
   "metadata": {},
   "source": [
    "#### Вывод: \n",
    "Топ Результатов:\n",
    "- 2-Direstional RNN + Dense. accuracy = 0.98200\n",
    "- 2-Direstional RNN + word_dropout. accuracy = 0.99087\n",
    "- 2-Direstional LSTM . accuracy = 0.99187\n",
    "- 2-Direstional LSTM + Conv1D . accuracy = __0.99255__ (текущая модель)\n",
    "\n",
    "**Добавлять Conv1D имеет значение**"
   ]
  },
  {
   "cell_type": "markdown",
   "metadata": {},
   "source": [
    "### More efficient batching"
   ]
  },
  {
   "cell_type": "code",
   "execution_count": 534,
   "metadata": {
    "ExecuteTime": {
     "end_time": "2021-10-26T13:05:04.987906Z",
     "start_time": "2021-10-26T13:05:04.967906Z"
    }
   },
   "outputs": [],
   "source": [
    "# чтобы длины предложений в батче были одинаковыми\n",
    "def get_larger_key(key,dict_keys_list ):\n",
    "    for i in dict_keys_list:\n",
    "        if i>key:\n",
    "            return i\n",
    "         \n",
    "    return dict_keys_list[50]\n",
    "\n",
    "\n",
    "def make_same_length(source):\n",
    "    a = {}\n",
    "    for index_i in range(len(source)):\n",
    "        length = len(source[index_i])\n",
    "        if length not in a.keys():\n",
    "            a[length] = []\n",
    "        a[length].append(index_i)\n",
    "\n",
    "    a_length = list(a.keys())\n",
    "\n",
    "    length = np.random.choice(a_length ) \n",
    "    batch_indexes = []\n",
    "    batch_indexes += a[length]\n",
    "\n",
    "    while len(batch_indexes) < 12:\n",
    "        batch_indexes += a[get_larger_key(length,a_length)]\n",
    "\n",
    "    return batch_indexes[:12]"
   ]
  },
  {
   "cell_type": "code",
   "execution_count": 535,
   "metadata": {
    "ExecuteTime": {
     "end_time": "2021-10-26T13:05:07.547909Z",
     "start_time": "2021-10-26T13:05:07.527909Z"
    }
   },
   "outputs": [],
   "source": [
    "from keras.utils.np_utils import to_categorical\n",
    "\n",
    "def iterate_minibatches(source,batch_size = 12,shuffle=True,same_length=False, **kwargs):\n",
    "    while True:\n",
    "        data_indexes = np.arange(len(source))\n",
    "        if shuffle:\n",
    "            #shuffle\n",
    "            data_indexes_shuffled = np.random.permutation(data_indexes)\n",
    "            batch_indexes = data_indexes_shuffled[:batch_size]\n",
    "        else:\n",
    "            # NO shuffle\n",
    "            batch_indexes = data_indexes[-batch_size:] #no shuffle is useless\n",
    "\n",
    "            \n",
    "        # чтобы длины предложений в батче были одинаковыми\n",
    "        if same_length:\n",
    "            batch_indexes = make_same_length(source=source)\n",
    "            \n",
    "\n",
    "        #generating X and y \n",
    "        batch,target = make_matrix_for_RNN(source[batch_indexes], **kwargs)\n",
    "\n",
    "        target = to_categorical(target, len(all_tags) ).reshape(target.shape+(-1,))\n",
    "\n",
    "        yield batch,target"
   ]
  },
  {
   "cell_type": "code",
   "execution_count": 537,
   "metadata": {
    "ExecuteTime": {
     "end_time": "2021-10-26T13:20:18.057971Z",
     "start_time": "2021-10-26T13:05:35.012948Z"
    }
   },
   "outputs": [
    {
     "name": "stdout",
     "output_type": "stream",
     "text": [
      "Epoch 1/5\n",
      "2811/2811 [==============================] - 174s 62ms/step - loss: 0.0039 - categorical_accuracy: 0.9996 - val_loss: 0.0513 - val_categorical_accuracy: 0.9916\n",
      "Epoch 2/5\n",
      "2811/2811 [==============================] - 179s 64ms/step - loss: 0.0029 - categorical_accuracy: 0.9997 - val_loss: 0.0626 - val_categorical_accuracy: 0.9904\n",
      "Epoch 3/5\n",
      "2811/2811 [==============================] - 178s 63ms/step - loss: 0.0029 - categorical_accuracy: 0.9998 - val_loss: 0.0820 - val_categorical_accuracy: 0.9893\n",
      "Epoch 4/5\n",
      "2811/2811 [==============================] - 177s 63ms/step - loss: 0.0020 - categorical_accuracy: 0.9999 - val_loss: 0.0778 - val_categorical_accuracy: 0.9900\n",
      "Epoch 5/5\n",
      "2811/2811 [==============================] - 174s 62ms/step - loss: 0.0041 - categorical_accuracy: 0.9996 - val_loss: 0.0842 - val_categorical_accuracy: 0.9887\n"
     ]
    },
    {
     "data": {
      "text/plain": [
       "<keras.callbacks.History at 0x96faeeb0>"
      ]
     },
     "execution_count": 537,
     "metadata": {},
     "output_type": "execute_result"
    }
   ],
   "source": [
    "batch_size = 12\n",
    "epochs = 5\n",
    "step_per_epoch = (len(X_train)+1) // (batch_size+1)\n",
    "validation_steps = (len(X_val)+1) // (batch_size+1)\n",
    "\n",
    "model_8.fit(iterate_minibatches(X_train, batch_size = batch_size ,shuffle=False, same_length=True),\n",
    "         epochs = epochs, steps_per_epoch = step_per_epoch,\n",
    "         callbacks = callbacks,\n",
    "         validation_data = iterate_minibatches(X_val, batch_size = batch_size ,shuffle=True),\n",
    "         validation_steps = validation_steps, verbose=1 )"
   ]
  },
  {
   "cell_type": "code",
   "execution_count": 568,
   "metadata": {
    "ExecuteTime": {
     "end_time": "2021-10-26T13:37:12.825409Z",
     "start_time": "2021-10-26T13:37:12.094407Z"
    }
   },
   "outputs": [],
   "source": [
    "@tf.function  \n",
    "def predict(model,array):\n",
    "    return model(array)"
   ]
  },
  {
   "cell_type": "code",
   "execution_count": 566,
   "metadata": {
    "ExecuteTime": {
     "end_time": "2021-10-26T13:36:03.537307Z",
     "start_time": "2021-10-26T13:36:03.527307Z"
    }
   },
   "outputs": [],
   "source": [
    "def calc_test_accuracy(model):\n",
    "    acc =0\n",
    "    batches = len(test_data)//12\n",
    "    \n",
    "    for i in range(0,batches,1):\n",
    "        X,y = make_matrix_for_RNN(test_data[i*12:i*12+12]) \n",
    "        y_predicted = np.argmax(predict(model,X),axis=-1)\n",
    "        #y=np.argmax(y,axis=-1)\n",
    "        acc += accuracy_score(np.ravel(y),np.ravel(y_predicted))\n",
    "    \n",
    "    return acc/ batches"
   ]
  },
  {
   "cell_type": "code",
   "execution_count": 567,
   "metadata": {
    "ExecuteTime": {
     "end_time": "2021-10-26T13:37:12.094407Z",
     "start_time": "2021-10-26T13:36:05.808310Z"
    },
    "id": "tHgxnYB68aHy"
   },
   "outputs": [
    {
     "name": "stdout",
     "output_type": "stream",
     "text": [
      "WARNING:tensorflow:5 out of the last 10 calls to <function predict at 0x00000000A0E2CB80> triggered tf.function retracing. Tracing is expensive and the excessive number of tracings could be due to (1) creating @tf.function repeatedly in a loop, (2) passing tensors with different shapes, (3) passing Python objects instead of tensors. For (1), please define your @tf.function outside of the loop. For (2), @tf.function has experimental_relax_shapes=True option that relaxes argument shapes that can avoid unnecessary retracing. For (3), please refer to https://www.tensorflow.org/guide/function#controlling_retracing and https://www.tensorflow.org/api_docs/python/tf/function for  more details.\n"
     ]
    },
    {
     "name": "stderr",
     "output_type": "stream",
     "text": [
      "WARNING:tensorflow:5 out of the last 10 calls to <function predict at 0x00000000A0E2CB80> triggered tf.function retracing. Tracing is expensive and the excessive number of tracings could be due to (1) creating @tf.function repeatedly in a loop, (2) passing tensors with different shapes, (3) passing Python objects instead of tensors. For (1), please define your @tf.function outside of the loop. For (2), @tf.function has experimental_relax_shapes=True option that relaxes argument shapes that can avoid unnecessary retracing. For (3), please refer to https://www.tensorflow.org/guide/function#controlling_retracing and https://www.tensorflow.org/api_docs/python/tf/function for  more details.\n"
     ]
    },
    {
     "name": "stdout",
     "output_type": "stream",
     "text": [
      "WARNING:tensorflow:6 out of the last 11 calls to <function predict at 0x00000000A0E2CB80> triggered tf.function retracing. Tracing is expensive and the excessive number of tracings could be due to (1) creating @tf.function repeatedly in a loop, (2) passing tensors with different shapes, (3) passing Python objects instead of tensors. For (1), please define your @tf.function outside of the loop. For (2), @tf.function has experimental_relax_shapes=True option that relaxes argument shapes that can avoid unnecessary retracing. For (3), please refer to https://www.tensorflow.org/guide/function#controlling_retracing and https://www.tensorflow.org/api_docs/python/tf/function for  more details.\n"
     ]
    },
    {
     "name": "stderr",
     "output_type": "stream",
     "text": [
      "WARNING:tensorflow:6 out of the last 11 calls to <function predict at 0x00000000A0E2CB80> triggered tf.function retracing. Tracing is expensive and the excessive number of tracings could be due to (1) creating @tf.function repeatedly in a loop, (2) passing tensors with different shapes, (3) passing Python objects instead of tensors. For (1), please define your @tf.function outside of the loop. For (2), @tf.function has experimental_relax_shapes=True option that relaxes argument shapes that can avoid unnecessary retracing. For (3), please refer to https://www.tensorflow.org/guide/function#controlling_retracing and https://www.tensorflow.org/api_docs/python/tf/function for  more details.\n",
      "Exception ignored in: <function ScopedTFFunction.__del__ at 0x0000000028A05CA0>\n",
      "Traceback (most recent call last):\n",
      "  File \"C:\\ProgramData\\Anaconda3\\lib\\site-packages\\tensorflow\\python\\framework\\c_api_util.py\", line 110, in __del__\n",
      "    self.deleter(self.func)\n",
      "KeyboardInterrupt: \n"
     ]
    },
    {
     "name": "stdout",
     "output_type": "stream",
     "text": [
      "Same batch length model(2-Directional RNN +Dense(10). accuracy: 0.98834\n"
     ]
    }
   ],
   "source": [
    "acc = calc_test_accuracy(model_8)\n",
    "print(\"Same batch length model(2-Directional RNN +Dense(10). accuracy: %.5f\"%acc)\n",
    "\n",
    "assert acc>0.94"
   ]
  },
  {
   "cell_type": "markdown",
   "metadata": {},
   "source": [
    "#### Вывод: \n",
    "Топ Результатов:\n",
    "- 2-Direstional RNN + Dense. accuracy = 0.98200\n",
    "- 2-Direstional RNN + word_dropout. accuracy = 0.99087\n",
    "- 2-Direstional LSTM . accuracy = 0.99187\n",
    "- 2-Direstional LSTM + Conv1D . accuracy = __0.99255__\n",
    "- 2-Direstional LSTM + Conv1D + Batch same length. accuracy = 0.98834 (текущая модель)\n",
    "\n",
    "**Добавлять Batch same length НЕ имеет значение**"
   ]
  },
  {
   "cell_type": "markdown",
   "metadata": {},
   "source": [
    "### Соберем все  единую модель:\n",
    "+ 2-Direstional LSTM + Conv1D\n",
    "+ word_dropout"
   ]
  },
  {
   "cell_type": "code",
   "execution_count": 570,
   "metadata": {
    "ExecuteTime": {
     "end_time": "2021-10-26T13:42:51.157885Z",
     "start_time": "2021-10-26T13:42:50.577884Z"
    },
    "id": "xWfCrbh-8aHy"
   },
   "outputs": [],
   "source": [
    "#Define a model that utilizes LSTM layer + Conv1D(64)  + Dense(10) \n",
    "model_9 = keras.models.Sequential()\n",
    "\n",
    "#input\n",
    "model_9.add(keras.layers.Input(shape=[None],batch_size=12,dtype=np.int16 ))\n",
    "\n",
    "#make Embedding\n",
    "words_vocabulary_length = len(word_to_id)\n",
    "model_9.add(keras.layers.Embedding(input_dim=words_vocabulary_length, \n",
    "          output_dim=100, input_length=12 ))\n",
    "\n",
    "#make two-directional RNN\n",
    "rnn_hidden_state = len(tag_to_id)\n",
    "LSTM_layer = keras.layers.LSTM(units = rnn_hidden_state,\n",
    "          activation = 'tanh',\n",
    "          return_sequences=True,\n",
    "          stateful=True) \n",
    "model_9.add( keras.layers.Bidirectional(LSTM_layer) )\n",
    "\n",
    "#make Conv1D(128)\n",
    "model_9.add( keras.layers.Convolution1D(filters=128, kernel_size=3,padding='same', \n",
    "                            activation = keras.activations.relu ) )\n",
    "            \n",
    "#make TimeDistibuted Dense\n",
    "Dense_layer = keras.layers.Dense(len(tag_to_id),activation=keras.activations.softmax)\n",
    "model_9.add( keras.layers.TimeDistributed(Dense_layer))        \n",
    "            "
   ]
  },
  {
   "cell_type": "code",
   "execution_count": 571,
   "metadata": {
    "ExecuteTime": {
     "end_time": "2021-10-26T13:42:54.977890Z",
     "start_time": "2021-10-26T13:42:54.947890Z"
    },
    "scrolled": true
   },
   "outputs": [
    {
     "name": "stdout",
     "output_type": "stream",
     "text": [
      "Model: \"sequential_11\"\n",
      "_________________________________________________________________\n",
      "Layer (type)                 Output Shape              Param #   \n",
      "=================================================================\n",
      "embedding_30 (Embedding)     (12, None, 100)           1000200   \n",
      "_________________________________________________________________\n",
      "bidirectional_13 (Bidirectio (12, None, 28)            12880     \n",
      "_________________________________________________________________\n",
      "conv1d_17 (Conv1D)           (12, None, 128)           10880     \n",
      "_________________________________________________________________\n",
      "time_distributed_24 (TimeDis (12, None, 14)            1806      \n",
      "=================================================================\n",
      "Total params: 1,025,766\n",
      "Trainable params: 1,025,766\n",
      "Non-trainable params: 0\n",
      "_________________________________________________________________\n"
     ]
    }
   ],
   "source": [
    "model_9.summary()"
   ]
  },
  {
   "cell_type": "code",
   "execution_count": 572,
   "metadata": {
    "ExecuteTime": {
     "end_time": "2021-10-26T13:43:04.270903Z",
     "start_time": "2021-10-26T13:43:04.250903Z"
    }
   },
   "outputs": [],
   "source": [
    "model_9.compile(optimizer=tf.keras.optimizers.Adam(learning_rate=5e-3, epsilon=1e-08), \n",
    "              loss=keras.losses.categorical_crossentropy,\n",
    "              metrics=keras.metrics.categorical_accuracy)"
   ]
  },
  {
   "cell_type": "code",
   "execution_count": 573,
   "metadata": {
    "ExecuteTime": {
     "end_time": "2021-10-26T13:43:14.082917Z",
     "start_time": "2021-10-26T13:43:14.052917Z"
    }
   },
   "outputs": [],
   "source": [
    "callbacks = [keras.callbacks.ModelCheckpoint(\n",
    "        filepath='./saved_models/model_9.{epoch:03d}-loss_{val_loss:.2f}.h5',\n",
    "        save_best_only=True,\n",
    "        save_weights_only=True,\n",
    "        monitor='val_loss',\n",
    "        mode='min'),\n",
    "        \n",
    "        keras.callbacks.TensorBoard(\n",
    "        log_dir ='../TensorBoard_logs/model_9' ,\n",
    "        histogram_freq = 1,\n",
    "        write_graph = False,\n",
    "        write_images = False,\n",
    "        write_steps_per_second = False,\n",
    "        update_freq = 'epoch',\n",
    "        profile_batch = 2,\n",
    "        embeddings_freq = 1\n",
    "        )]"
   ]
  },
  {
   "cell_type": "code",
   "execution_count": 575,
   "metadata": {
    "ExecuteTime": {
     "end_time": "2021-10-26T13:53:17.833259Z",
     "start_time": "2021-10-26T13:43:42.436957Z"
    }
   },
   "outputs": [
    {
     "name": "stdout",
     "output_type": "stream",
     "text": [
      "Epoch 1/5\n",
      "2811/2811 [==============================] - 120s 42ms/step - loss: 0.0647 - categorical_accuracy: 0.9809 - val_loss: 0.0320 - val_categorical_accuracy: 0.9904\n",
      "Epoch 2/5\n",
      "2811/2811 [==============================] - 113s 40ms/step - loss: 0.0209 - categorical_accuracy: 0.9932 - val_loss: 0.0283 - val_categorical_accuracy: 0.9916\n",
      "Epoch 3/5\n",
      "2811/2811 [==============================] - 113s 40ms/step - loss: 0.0186 - categorical_accuracy: 0.9940 - val_loss: 0.0284 - val_categorical_accuracy: 0.9915\n",
      "Epoch 4/5\n",
      "2811/2811 [==============================] - 114s 41ms/step - loss: 0.0167 - categorical_accuracy: 0.9945 - val_loss: 0.0288 - val_categorical_accuracy: 0.9916\n",
      "Epoch 5/5\n",
      "2811/2811 [==============================] - 114s 41ms/step - loss: 0.0152 - categorical_accuracy: 0.9949 - val_loss: 0.0289 - val_categorical_accuracy: 0.9918\n"
     ]
    },
    {
     "data": {
      "text/plain": [
       "<keras.callbacks.History at 0xaea37fd0>"
      ]
     },
     "execution_count": 575,
     "metadata": {},
     "output_type": "execute_result"
    }
   ],
   "source": [
    "batch_size = 12\n",
    "epochs = 5\n",
    "step_per_epoch = (len(X_train)+1) // (batch_size+1)\n",
    "validation_steps = (len(X_val)+1) // (batch_size+1)\n",
    "\n",
    "model_9.fit(iterate_minibatches(X_train, batch_size = batch_size ,shuffle=True,dropout=0.5),\n",
    "         epochs = epochs, steps_per_epoch = step_per_epoch,\n",
    "         callbacks = callbacks,\n",
    "         validation_data = iterate_minibatches(X_val, batch_size = batch_size ,shuffle=True),\n",
    "         validation_steps = validation_steps, verbose=1 )"
   ]
  },
  {
   "cell_type": "code",
   "execution_count": 576,
   "metadata": {
    "ExecuteTime": {
     "end_time": "2021-10-26T13:53:18.955264Z",
     "start_time": "2021-10-26T13:53:17.833259Z"
    },
    "scrolled": false
   },
   "outputs": [
    {
     "data": {
      "image/png": "[encoded data removed]",
      "text/plain": [
       "<Figure size 1080x360 with 2 Axes>"
      ]
     },
     "metadata": {
      "needs_background": "light"
     },
     "output_type": "display_data"
    }
   ],
   "source": [
    "make_plots(model_9,name='Final Model: 2-Direstional LSTM + Conv1D + Dense(10) + Word_dropout',save=True)"
   ]
  },
  {
   "cell_type": "code",
   "execution_count": 577,
   "metadata": {
    "ExecuteTime": {
     "end_time": "2021-10-26T13:54:16.107345Z",
     "start_time": "2021-10-26T13:53:18.955264Z"
    },
    "id": "tHgxnYB68aHy"
   },
   "outputs": [
    {
     "name": "stdout",
     "output_type": "stream",
     "text": [
      "WARNING:tensorflow:5 out of the last 6 calls to <function predict at 0x000000009757DEE0> triggered tf.function retracing. Tracing is expensive and the excessive number of tracings could be due to (1) creating @tf.function repeatedly in a loop, (2) passing tensors with different shapes, (3) passing Python objects instead of tensors. For (1), please define your @tf.function outside of the loop. For (2), @tf.function has experimental_relax_shapes=True option that relaxes argument shapes that can avoid unnecessary retracing. For (3), please refer to https://www.tensorflow.org/guide/function#controlling_retracing and https://www.tensorflow.org/api_docs/python/tf/function for  more details.\n"
     ]
    },
    {
     "name": "stderr",
     "output_type": "stream",
     "text": [
      "WARNING:tensorflow:5 out of the last 6 calls to <function predict at 0x000000009757DEE0> triggered tf.function retracing. Tracing is expensive and the excessive number of tracings could be due to (1) creating @tf.function repeatedly in a loop, (2) passing tensors with different shapes, (3) passing Python objects instead of tensors. For (1), please define your @tf.function outside of the loop. For (2), @tf.function has experimental_relax_shapes=True option that relaxes argument shapes that can avoid unnecessary retracing. For (3), please refer to https://www.tensorflow.org/guide/function#controlling_retracing and https://www.tensorflow.org/api_docs/python/tf/function for  more details.\n"
     ]
    },
    {
     "name": "stdout",
     "output_type": "stream",
     "text": [
      "WARNING:tensorflow:6 out of the last 7 calls to <function predict at 0x000000009757DEE0> triggered tf.function retracing. Tracing is expensive and the excessive number of tracings could be due to (1) creating @tf.function repeatedly in a loop, (2) passing tensors with different shapes, (3) passing Python objects instead of tensors. For (1), please define your @tf.function outside of the loop. For (2), @tf.function has experimental_relax_shapes=True option that relaxes argument shapes that can avoid unnecessary retracing. For (3), please refer to https://www.tensorflow.org/guide/function#controlling_retracing and https://www.tensorflow.org/api_docs/python/tf/function for  more details.\n"
     ]
    },
    {
     "name": "stderr",
     "output_type": "stream",
     "text": [
      "WARNING:tensorflow:6 out of the last 7 calls to <function predict at 0x000000009757DEE0> triggered tf.function retracing. Tracing is expensive and the excessive number of tracings could be due to (1) creating @tf.function repeatedly in a loop, (2) passing tensors with different shapes, (3) passing Python objects instead of tensors. For (1), please define your @tf.function outside of the loop. For (2), @tf.function has experimental_relax_shapes=True option that relaxes argument shapes that can avoid unnecessary retracing. For (3), please refer to https://www.tensorflow.org/guide/function#controlling_retracing and https://www.tensorflow.org/api_docs/python/tf/function for  more details.\n"
     ]
    },
    {
     "name": "stdout",
     "output_type": "stream",
     "text": [
      "Word_Dropout(2-Directional LSTM(dropout) + Conv1D + Dense(10)) accuracy: 0.99176\n"
     ]
    }
   ],
   "source": [
    "acc = calc_test_accuracy(model_9)\n",
    "print(\"Word_Dropout(2-Directional LSTM(dropout) + Conv1D + Dense(10)) accuracy: %.5f\"%acc)\n",
    "\n",
    "assert acc>0.94"
   ]
  },
  {
   "cell_type": "markdown",
   "metadata": {},
   "source": [
    "#### Вывод: \n",
    "Топ Результатов:  \n",
    "- 2-Direstional RNN + CRF. accuracy = 0.98200\n",
    "- 2-Direstional RNN + Dense. accuracy = 0.98200\n",
    "- 2-Direstional RNN + Dense + word_dropout. accuracy = 0.99087\n",
    "- 2-Direstional LSTM + Conv1D . accuracy = __0.99255__\n",
    "- 2-Direstional LSTM + Conv1D + word_dropout. accuracy = 0.99176\n",
    "\n",
    "**Самая лучшая модель 2-Direstional LSTM + Conv1D(64) + Dense(10)**\n",
    "\n",
    "Было проверено:\n",
    "- новый слой CRF + negative_log_likelihood loss function ( которого нет ни в keras ни в tensor flow)\n",
    "- word_dropout, \n",
    "- element_dropout,\n",
    "- 2-Direstional SimpleRNN,\n",
    "- подбор количества фильтров для слоя Conv1D,\n",
    "- batch normalization, \n",
    "- pre-trained embedding, \n",
    "- batch length optimization\n"
   ]
  }
 ],
 "metadata": {
  "accelerator": "GPU",
  "colab": {
   "collapsed_sections": [],
   "name": "Copy of Intro to NN 4 (HW)",
   "provenance": [
    {
     "file_id": "1y2vX9lOI1KaMyOJbGegKs5QwVrkBRso5",
     "timestamp": 1634024579500
    },
    {
     "file_id": "https://github.com/waytobehigh/nlp_course/blob/master/week05_structured/rnn_tagger.ipynb",
     "timestamp": 1617022812789
    }
   ]
  },
  "kernelspec": {
   "display_name": "Python 3 (ipykernel)",
   "language": "python",
   "name": "python3"
  },
  "language_info": {
   "codemirror_mode": {
    "name": "ipython",
    "version": 3
   },
   "file_extension": ".py",
   "mimetype": "text/x-python",
   "name": "python",
   "nbconvert_exporter": "python",
   "pygments_lexer": "ipython3",
   "version": "3.8.5"
  },
  "toc": {
   "base_numbering": 1,
   "nav_menu": {},
   "number_sections": true,
   "sideBar": true,
   "skip_h1_title": false,
   "title_cell": "Table of Contents",
   "title_sidebar": "Contents",
   "toc_cell": false,
   "toc_position": {},
   "toc_section_display": true,
   "toc_window_display": false
  }
 },
 "nbformat": 4,
 "nbformat_minor": 1
}
